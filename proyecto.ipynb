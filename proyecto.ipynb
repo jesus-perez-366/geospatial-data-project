{
 "cells": [
  {
   "cell_type": "code",
   "execution_count": 76,
   "metadata": {},
   "outputs": [],
   "source": [
    "import pandas as pd\n",
    "from pymongo import MongoClient\n",
    "import src.create as cr\n",
    "import src.map as mp\n",
    "from folium import Choropleth, Circle, Marker, Icon, Map\n",
    "\n"
   ]
  },
  {
   "cell_type": "code",
   "execution_count": 77,
   "metadata": {},
   "outputs": [],
   "source": [
    "conn = MongoClient(\"localhost:27017\")\n",
    "db = conn.get_database(\"ironhack\")\n",
    "cn= db.get_collection(\"companies\")"
   ]
  },
  {
   "cell_type": "code",
   "execution_count": 78,
   "metadata": {},
   "outputs": [
    {
     "data": {
      "text/plain": [
       "{'category_code': 'software'}"
      ]
     },
     "execution_count": 78,
     "metadata": {},
     "output_type": "execute_result"
    }
   ],
   "source": [
    "cn.find_one({'category_code':  {\"$regex\": \"^s.*\"}}, {'category_code': 1, \"_id\": 0})"
   ]
  },
  {
   "cell_type": "code",
   "execution_count": 79,
   "metadata": {},
   "outputs": [
    {
     "data": {
      "text/plain": [
       "{'category_code': 'games_video'}"
      ]
     },
     "execution_count": 79,
     "metadata": {},
     "output_type": "execute_result"
    }
   ],
   "source": [
    "cn.find_one({'category_code':  {\"$regex\": \"^ga.*\"}}, {'category_code': 1, \"_id\": 0})"
   ]
  },
  {
   "cell_type": "code",
   "execution_count": 80,
   "metadata": {},
   "outputs": [],
   "source": [
    "comp_game = cn.find({'category_code': \"games_video\", \"offices.country_code\" : 'USA'}, {'name': 1, 'number_of_employees' : 1, \"offices.latitude\" : 1, \"offices.longitude\" : 1,\"offices.country_code\":1, '_id':0} )\n",
    "comp_game = list(comp_game)"
   ]
  },
  {
   "cell_type": "code",
   "execution_count": 81,
   "metadata": {},
   "outputs": [],
   "source": [
    "dict_game = cr.create_dic (comp_game)\n"
   ]
  },
  {
   "cell_type": "code",
   "execution_count": 82,
   "metadata": {},
   "outputs": [],
   "source": [
    "cr.create_collection ('comp_game2', dict_game)\n",
    "cg= db.get_collection(\"comp_game2\")"
   ]
  },
  {
   "cell_type": "code",
   "execution_count": 83,
   "metadata": {},
   "outputs": [
    {
     "data": {
      "text/html": [
       "<div>\n",
       "<style scoped>\n",
       "    .dataframe tbody tr th:only-of-type {\n",
       "        vertical-align: middle;\n",
       "    }\n",
       "\n",
       "    .dataframe tbody tr th {\n",
       "        vertical-align: top;\n",
       "    }\n",
       "\n",
       "    .dataframe thead th {\n",
       "        text-align: right;\n",
       "    }\n",
       "</style>\n",
       "<table border=\"1\" class=\"dataframe\">\n",
       "  <thead>\n",
       "    <tr style=\"text-align: right;\">\n",
       "      <th></th>\n",
       "      <th>name</th>\n",
       "      <th>location</th>\n",
       "    </tr>\n",
       "  </thead>\n",
       "  <tbody>\n",
       "    <tr>\n",
       "      <th>0</th>\n",
       "      <td>Flektor</td>\n",
       "      <td>{'coordinates': [-118.379768, 34.025958], 'typ...</td>\n",
       "    </tr>\n",
       "    <tr>\n",
       "      <th>1</th>\n",
       "      <td>Lala</td>\n",
       "      <td>{'coordinates': [-122.154369, 37.451151], 'typ...</td>\n",
       "    </tr>\n",
       "    <tr>\n",
       "      <th>2</th>\n",
       "      <td>Joost</td>\n",
       "      <td>{'coordinates': [-74.0094471, 40.7464969], 'ty...</td>\n",
       "    </tr>\n",
       "    <tr>\n",
       "      <th>3</th>\n",
       "      <td>Sparter</td>\n",
       "      <td>{'coordinates': [-95.712891, 37.09024], 'type'...</td>\n",
       "    </tr>\n",
       "    <tr>\n",
       "      <th>4</th>\n",
       "      <td>Kyte</td>\n",
       "      <td>{'coordinates': [-122.409173, 37.788482], 'typ...</td>\n",
       "    </tr>\n",
       "    <tr>\n",
       "      <th>...</th>\n",
       "      <td>...</td>\n",
       "      <td>...</td>\n",
       "    </tr>\n",
       "    <tr>\n",
       "      <th>438</th>\n",
       "      <td>FremantleMedia Ventures</td>\n",
       "      <td>{'coordinates': [-73.9855424, 40.7439449], 'ty...</td>\n",
       "    </tr>\n",
       "    <tr>\n",
       "      <th>439</th>\n",
       "      <td>MechaWorks</td>\n",
       "      <td>{'coordinates': [-122.009405, 37.383444], 'typ...</td>\n",
       "    </tr>\n",
       "    <tr>\n",
       "      <th>440</th>\n",
       "      <td>DJ Nitrogen</td>\n",
       "      <td>{'coordinates': [-122.4494082, 37.7841737], 't...</td>\n",
       "    </tr>\n",
       "    <tr>\n",
       "      <th>441</th>\n",
       "      <td>Shape Games</td>\n",
       "      <td>{'coordinates': [-77.042423, 38.814208], 'type...</td>\n",
       "    </tr>\n",
       "    <tr>\n",
       "      <th>442</th>\n",
       "      <td>Fictionaut</td>\n",
       "      <td>{'coordinates': [-73.9161267, 40.7597951], 'ty...</td>\n",
       "    </tr>\n",
       "  </tbody>\n",
       "</table>\n",
       "<p>443 rows × 2 columns</p>\n",
       "</div>"
      ],
      "text/plain": [
       "                        name  \\\n",
       "0                    Flektor   \n",
       "1                       Lala   \n",
       "2                      Joost   \n",
       "3                    Sparter   \n",
       "4                       Kyte   \n",
       "..                       ...   \n",
       "438  FremantleMedia Ventures   \n",
       "439               MechaWorks   \n",
       "440              DJ Nitrogen   \n",
       "441              Shape Games   \n",
       "442               Fictionaut   \n",
       "\n",
       "                                              location  \n",
       "0    {'coordinates': [-118.379768, 34.025958], 'typ...  \n",
       "1    {'coordinates': [-122.154369, 37.451151], 'typ...  \n",
       "2    {'coordinates': [-74.0094471, 40.7464969], 'ty...  \n",
       "3    {'coordinates': [-95.712891, 37.09024], 'type'...  \n",
       "4    {'coordinates': [-122.409173, 37.788482], 'typ...  \n",
       "..                                                 ...  \n",
       "438  {'coordinates': [-73.9855424, 40.7439449], 'ty...  \n",
       "439  {'coordinates': [-122.009405, 37.383444], 'typ...  \n",
       "440  {'coordinates': [-122.4494082, 37.7841737], 't...  \n",
       "441  {'coordinates': [-77.042423, 38.814208], 'type...  \n",
       "442  {'coordinates': [-73.9161267, 40.7597951], 'ty...  \n",
       "\n",
       "[443 rows x 2 columns]"
      ]
     },
     "execution_count": 83,
     "metadata": {},
     "output_type": "execute_result"
    }
   ],
   "source": [
    "pd.DataFrame(list(cg.find({})))[['name','location']]"
   ]
  },
  {
   "cell_type": "code",
   "execution_count": 84,
   "metadata": {},
   "outputs": [],
   "source": [
    "comp_software = cn.find({'category_code': \"software\", \"offices.country_code\" : 'USA', \"ipo.valuation_amount\" : {\"$gt\": 1000000}}, {'name': 1, \"ipo.valuation_amount\" :1, 'number_of_employees' : 1, \"offices.latitude\" : 1, \"offices.longitude\" : 1,\"offices.country_code\":1, '_id':0}).sort(\"ipo.valuation_amount\",-1)\n",
    "comp_software=list(comp_software)"
   ]
  },
  {
   "cell_type": "code",
   "execution_count": 85,
   "metadata": {},
   "outputs": [],
   "source": [
    "dict_software = cr.create_dic (comp_software)"
   ]
  },
  {
   "cell_type": "code",
   "execution_count": 86,
   "metadata": {},
   "outputs": [],
   "source": [
    "cr.create_collection ('comp_software2', dict_software)\n",
    "cs= db.get_collection(\"comp_software2\")\n"
   ]
  },
  {
   "cell_type": "code",
   "execution_count": 87,
   "metadata": {},
   "outputs": [],
   "source": [
    "# Comparo cuales industria software estan en un radio de 3km y cuento cuantas hay para cada empresa de juego\n",
    "game_and_software = cr.create_index(cs,dict_game, 3)\n",
    "game_and_software = cr.count_items(game_and_software)"
   ]
  },
  {
   "cell_type": "code",
   "execution_count": 88,
   "metadata": {},
   "outputs": [],
   "source": [
    "#Obtener los nombres de las empresas que tienen cerca empresas de software\n",
    "name_emp=[i['name'] for i in game_and_software]"
   ]
  },
  {
   "cell_type": "code",
   "execution_count": 89,
   "metadata": {},
   "outputs": [],
   "source": [
    "#filtrar la coleccion por los name obtenido anteriormente\n",
    "game_filter=cg.find({'name': {\"$in\": name_emp}})\n",
    "game_filter=list(game_filter)\n"
   ]
  },
  {
   "cell_type": "code",
   "execution_count": 90,
   "metadata": {},
   "outputs": [],
   "source": [
    "#Genero mapa con las empresas de juego cercanas a las industrias (azul = empresas de juego) (beige = empresa de software)\n",
    "map_1 = mp.Create_map (40.7495594, -73.9916617)\n",
    "mp.add_market (map_1, game_filter, 'fa-building', 'blue')\n",
    "mp.add_market (map_1, dict_software, 'fa-building', \"beige\")\n",
    "map_1.save('output/Mapa_empresas.html')"
   ]
  },
  {
   "cell_type": "code",
   "execution_count": 91,
   "metadata": {},
   "outputs": [],
   "source": [
    "map_1.save('output/Mapa_empresas.html')"
   ]
  },
  {
   "cell_type": "code",
   "execution_count": 17,
   "metadata": {},
   "outputs": [],
   "source": [
    "#llamar a la API y obtener las  School cercanas a cada empresa\n",
    "fin_School_total=[]\n",
    "for i in ['High_School', 'Middle School', 'Preschool']:\n",
    "    list_High_School = cr.call_url(game_filter, i, 3, 5)\n",
    "    list_High_School = cr.dic_ini(list_High_School, i)\n",
    "    fin_School = cr.dic_final(list_High_School)\n",
    "    fin_School_total.append(fin_School)"
   ]
  },
  {
   "cell_type": "code",
   "execution_count": 92,
   "metadata": {},
   "outputs": [],
   "source": [
    "# Colocar todos los diccionario en una sola lista\n",
    "final_School=[]\n",
    "list5=[]\n",
    "for i in fin_School_total:\n",
    "    for y in i:\n",
    "        if y['name'] not in list5:\n",
    "                list5.append(y['name'])\n",
    "                final_School.append(y)"
   ]
  },
  {
   "cell_type": "code",
   "execution_count": 94,
   "metadata": {},
   "outputs": [],
   "source": [
    "#Crear la coleccion High_School en la BD\n",
    "cr.create_collection ('School', final_School)\n",
    "hs= db.get_collection(\"School\")    "
   ]
  },
  {
   "cell_type": "code",
   "execution_count": 95,
   "metadata": {},
   "outputs": [],
   "source": [
    "# Comparo cuales School estan en un radio de 2km y cuento cuantas hay para cada empresa de juego\n",
    "game_and_School = cr.create_index(hs,game_filter, 2)\n",
    "game_and_School = cr.count_items(game_and_School)"
   ]
  },
  {
   "cell_type": "code",
   "execution_count": 96,
   "metadata": {},
   "outputs": [
    {
     "data": {
      "text/html": [
       "<div>\n",
       "<style scoped>\n",
       "    .dataframe tbody tr th:only-of-type {\n",
       "        vertical-align: middle;\n",
       "    }\n",
       "\n",
       "    .dataframe tbody tr th {\n",
       "        vertical-align: top;\n",
       "    }\n",
       "\n",
       "    .dataframe thead th {\n",
       "        text-align: right;\n",
       "    }\n",
       "</style>\n",
       "<table border=\"1\" class=\"dataframe\">\n",
       "  <thead>\n",
       "    <tr style=\"text-align: right;\">\n",
       "      <th></th>\n",
       "      <th>name</th>\n",
       "      <th>comp_near</th>\n",
       "      <th>Total</th>\n",
       "    </tr>\n",
       "  </thead>\n",
       "  <tbody>\n",
       "    <tr>\n",
       "      <th>44</th>\n",
       "      <td>CollegeClickTV</td>\n",
       "      <td>[NYREI - New York Real Estate School, Empire S...</td>\n",
       "      <td>40</td>\n",
       "    </tr>\n",
       "    <tr>\n",
       "      <th>46</th>\n",
       "      <td>Crispy Gamer</td>\n",
       "      <td>[Empire State Building, NYREI - New York Real ...</td>\n",
       "      <td>39</td>\n",
       "    </tr>\n",
       "    <tr>\n",
       "      <th>28</th>\n",
       "      <td>Marvel Entertainment</td>\n",
       "      <td>[Park Avenue KinderCare, Ashcan art school, Em...</td>\n",
       "      <td>37</td>\n",
       "    </tr>\n",
       "    <tr>\n",
       "      <th>11</th>\n",
       "      <td>Qtrax</td>\n",
       "      <td>[Ashcan art school, Chelsea Day School, Park A...</td>\n",
       "      <td>37</td>\n",
       "    </tr>\n",
       "    <tr>\n",
       "      <th>35</th>\n",
       "      <td>For Your Imagination</td>\n",
       "      <td>[Ivy Prep Early Learning Academy, ACTeen, 255,...</td>\n",
       "      <td>37</td>\n",
       "    </tr>\n",
       "    <tr>\n",
       "      <th>50</th>\n",
       "      <td>[212]Media</td>\n",
       "      <td>[Alexandrian Scholars, ACTeen, Fusion Academy ...</td>\n",
       "      <td>36</td>\n",
       "    </tr>\n",
       "    <tr>\n",
       "      <th>49</th>\n",
       "      <td>Saavn</td>\n",
       "      <td>[Alexandrian Scholars, ACTeen, Fusion Academy ...</td>\n",
       "      <td>36</td>\n",
       "    </tr>\n",
       "    <tr>\n",
       "      <th>26</th>\n",
       "      <td>ConcertAttack</td>\n",
       "      <td>[Star America Preschool, NYREI - New York Real...</td>\n",
       "      <td>36</td>\n",
       "    </tr>\n",
       "  </tbody>\n",
       "</table>\n",
       "</div>"
      ],
      "text/plain": [
       "                    name                                          comp_near  \\\n",
       "44        CollegeClickTV  [NYREI - New York Real Estate School, Empire S...   \n",
       "46          Crispy Gamer  [Empire State Building, NYREI - New York Real ...   \n",
       "28  Marvel Entertainment  [Park Avenue KinderCare, Ashcan art school, Em...   \n",
       "11                 Qtrax  [Ashcan art school, Chelsea Day School, Park A...   \n",
       "35  For Your Imagination  [Ivy Prep Early Learning Academy, ACTeen, 255,...   \n",
       "50            [212]Media  [Alexandrian Scholars, ACTeen, Fusion Academy ...   \n",
       "49                 Saavn  [Alexandrian Scholars, ACTeen, Fusion Academy ...   \n",
       "26         ConcertAttack  [Star America Preschool, NYREI - New York Real...   \n",
       "\n",
       "    Total  \n",
       "44     40  \n",
       "46     39  \n",
       "28     37  \n",
       "11     37  \n",
       "35     37  \n",
       "50     36  \n",
       "49     36  \n",
       "26     36  "
      ]
     },
     "execution_count": 96,
     "metadata": {},
     "output_type": "execute_result"
    }
   ],
   "source": [
    "# generar un data frame y ordenarlo de manera descendiente por el numero de de School cercanas, nos quedamos con las 8 primeras\n",
    "df_game=pd.DataFrame(game_and_School)\n",
    "game_scho = df_game.sort_values('Total', ascending=False).head(8)\n",
    "game_scho "
   ]
  },
  {
   "cell_type": "code",
   "execution_count": 97,
   "metadata": {},
   "outputs": [],
   "source": [
    "# Flitrar la coleccion por los nombre de las empresas obtenidos anteriormente\n",
    "game_filter2=cg.find({'name': {\"$in\": game_scho['name'].tolist()}})\n",
    "game_filter2=list(game_filter2)"
   ]
  },
  {
   "cell_type": "code",
   "execution_count": 98,
   "metadata": {},
   "outputs": [
    {
     "data": {
      "text/html": [
       "<div style=\"width:100%;\"><div style=\"position:relative;width:100%;height:0;padding-bottom:60%;\"><span style=\"color:#565656\">Make this Notebook Trusted to load map: File -> Trust Notebook</span><iframe src=\"about:blank\" style=\"position:absolute;width:100%;height:100%;left:0;top:0;border:none !important;\" data-html=PCFET0NUWVBFIGh0bWw+CjxoZWFkPiAgICAKICAgIDxtZXRhIGh0dHAtZXF1aXY9ImNvbnRlbnQtdHlwZSIgY29udGVudD0idGV4dC9odG1sOyBjaGFyc2V0PVVURi04IiAvPgogICAgCiAgICAgICAgPHNjcmlwdD4KICAgICAgICAgICAgTF9OT19UT1VDSCA9IGZhbHNlOwogICAgICAgICAgICBMX0RJU0FCTEVfM0QgPSBmYWxzZTsKICAgICAgICA8L3NjcmlwdD4KICAgIAogICAgPHNjcmlwdCBzcmM9Imh0dHBzOi8vY2RuLmpzZGVsaXZyLm5ldC9ucG0vbGVhZmxldEAxLjYuMC9kaXN0L2xlYWZsZXQuanMiPjwvc2NyaXB0PgogICAgPHNjcmlwdCBzcmM9Imh0dHBzOi8vY29kZS5qcXVlcnkuY29tL2pxdWVyeS0xLjEyLjQubWluLmpzIj48L3NjcmlwdD4KICAgIDxzY3JpcHQgc3JjPSJodHRwczovL21heGNkbi5ib290c3RyYXBjZG4uY29tL2Jvb3RzdHJhcC8zLjIuMC9qcy9ib290c3RyYXAubWluLmpzIj48L3NjcmlwdD4KICAgIDxzY3JpcHQgc3JjPSJodHRwczovL2NkbmpzLmNsb3VkZmxhcmUuY29tL2FqYXgvbGlicy9MZWFmbGV0LmF3ZXNvbWUtbWFya2Vycy8yLjAuMi9sZWFmbGV0LmF3ZXNvbWUtbWFya2Vycy5qcyI+PC9zY3JpcHQ+CiAgICA8bGluayByZWw9InN0eWxlc2hlZXQiIGhyZWY9Imh0dHBzOi8vY2RuLmpzZGVsaXZyLm5ldC9ucG0vbGVhZmxldEAxLjYuMC9kaXN0L2xlYWZsZXQuY3NzIi8+CiAgICA8bGluayByZWw9InN0eWxlc2hlZXQiIGhyZWY9Imh0dHBzOi8vbWF4Y2RuLmJvb3RzdHJhcGNkbi5jb20vYm9vdHN0cmFwLzMuMi4wL2Nzcy9ib290c3RyYXAubWluLmNzcyIvPgogICAgPGxpbmsgcmVsPSJzdHlsZXNoZWV0IiBocmVmPSJodHRwczovL21heGNkbi5ib290c3RyYXBjZG4uY29tL2Jvb3RzdHJhcC8zLjIuMC9jc3MvYm9vdHN0cmFwLXRoZW1lLm1pbi5jc3MiLz4KICAgIDxsaW5rIHJlbD0ic3R5bGVzaGVldCIgaHJlZj0iaHR0cHM6Ly9tYXhjZG4uYm9vdHN0cmFwY2RuLmNvbS9mb250LWF3ZXNvbWUvNC42LjMvY3NzL2ZvbnQtYXdlc29tZS5taW4uY3NzIi8+CiAgICA8bGluayByZWw9InN0eWxlc2hlZXQiIGhyZWY9Imh0dHBzOi8vY2RuanMuY2xvdWRmbGFyZS5jb20vYWpheC9saWJzL0xlYWZsZXQuYXdlc29tZS1tYXJrZXJzLzIuMC4yL2xlYWZsZXQuYXdlc29tZS1tYXJrZXJzLmNzcyIvPgogICAgPGxpbmsgcmVsPSJzdHlsZXNoZWV0IiBocmVmPSJodHRwczovL3Jhd2Nkbi5naXRoYWNrLmNvbS9weXRob24tdmlzdWFsaXphdGlvbi9mb2xpdW0vbWFzdGVyL2ZvbGl1bS90ZW1wbGF0ZXMvbGVhZmxldC5hd2Vzb21lLnJvdGF0ZS5jc3MiLz4KICAgIDxzdHlsZT5odG1sLCBib2R5IHt3aWR0aDogMTAwJTtoZWlnaHQ6IDEwMCU7bWFyZ2luOiAwO3BhZGRpbmc6IDA7fTwvc3R5bGU+CiAgICA8c3R5bGU+I21hcCB7cG9zaXRpb246YWJzb2x1dGU7dG9wOjA7Ym90dG9tOjA7cmlnaHQ6MDtsZWZ0OjA7fTwvc3R5bGU+CiAgICAKICAgICAgICAgICAgPG1ldGEgbmFtZT0idmlld3BvcnQiIGNvbnRlbnQ9IndpZHRoPWRldmljZS13aWR0aCwKICAgICAgICAgICAgICAgIGluaXRpYWwtc2NhbGU9MS4wLCBtYXhpbXVtLXNjYWxlPTEuMCwgdXNlci1zY2FsYWJsZT1ubyIgLz4KICAgICAgICAgICAgPHN0eWxlPgogICAgICAgICAgICAgICAgI21hcF80N2Q4YmJiMTQzMjY0ZDZkYjA3NTRiM2E4YTFhOWEzZCB7CiAgICAgICAgICAgICAgICAgICAgcG9zaXRpb246IHJlbGF0aXZlOwogICAgICAgICAgICAgICAgICAgIHdpZHRoOiAxMDAuMCU7CiAgICAgICAgICAgICAgICAgICAgaGVpZ2h0OiAxMDAuMCU7CiAgICAgICAgICAgICAgICAgICAgbGVmdDogMC4wJTsKICAgICAgICAgICAgICAgICAgICB0b3A6IDAuMCU7CiAgICAgICAgICAgICAgICB9CiAgICAgICAgICAgIDwvc3R5bGU+CiAgICAgICAgCjwvaGVhZD4KPGJvZHk+ICAgIAogICAgCiAgICAgICAgICAgIDxkaXYgY2xhc3M9ImZvbGl1bS1tYXAiIGlkPSJtYXBfNDdkOGJiYjE0MzI2NGQ2ZGIwNzU0YjNhOGExYTlhM2QiID48L2Rpdj4KICAgICAgICAKPC9ib2R5Pgo8c2NyaXB0PiAgICAKICAgIAogICAgICAgICAgICB2YXIgbWFwXzQ3ZDhiYmIxNDMyNjRkNmRiMDc1NGIzYThhMWE5YTNkID0gTC5tYXAoCiAgICAgICAgICAgICAgICAibWFwXzQ3ZDhiYmIxNDMyNjRkNmRiMDc1NGIzYThhMWE5YTNkIiwKICAgICAgICAgICAgICAgIHsKICAgICAgICAgICAgICAgICAgICBjZW50ZXI6IFs0MC43NDk1NTk0LCAtNzMuOTkxNjYxN10sCiAgICAgICAgICAgICAgICAgICAgY3JzOiBMLkNSUy5FUFNHMzg1NywKICAgICAgICAgICAgICAgICAgICB6b29tOiAxNSwKICAgICAgICAgICAgICAgICAgICB6b29tQ29udHJvbDogdHJ1ZSwKICAgICAgICAgICAgICAgICAgICBwcmVmZXJDYW52YXM6IGZhbHNlLAogICAgICAgICAgICAgICAgfQogICAgICAgICAgICApOwogICAgICAgICAgICBMLmNvbnRyb2wuc2NhbGUoKS5hZGRUbyhtYXBfNDdkOGJiYjE0MzI2NGQ2ZGIwNzU0YjNhOGExYTlhM2QpOwoKICAgICAgICAgICAgCgogICAgICAgIAogICAgCiAgICAgICAgICAgIHZhciB0aWxlX2xheWVyX2I5MzFlYjYwNzgzMjRkOWZiZWViZjg5NDU4OWQyZTNkID0gTC50aWxlTGF5ZXIoCiAgICAgICAgICAgICAgICAiaHR0cHM6Ly97c30udGlsZS5vcGVuc3RyZWV0bWFwLm9yZy97en0ve3h9L3t5fS5wbmciLAogICAgICAgICAgICAgICAgeyJhdHRyaWJ1dGlvbiI6ICJEYXRhIGJ5IFx1MDAyNmNvcHk7IFx1MDAzY2EgaHJlZj1cImh0dHA6Ly9vcGVuc3RyZWV0bWFwLm9yZ1wiXHUwMDNlT3BlblN0cmVldE1hcFx1MDAzYy9hXHUwMDNlLCB1bmRlciBcdTAwM2NhIGhyZWY9XCJodHRwOi8vd3d3Lm9wZW5zdHJlZXRtYXAub3JnL2NvcHlyaWdodFwiXHUwMDNlT0RiTFx1MDAzYy9hXHUwMDNlLiIsICJkZXRlY3RSZXRpbmEiOiBmYWxzZSwgIm1heE5hdGl2ZVpvb20iOiAxOCwgIm1heFpvb20iOiAxOCwgIm1pblpvb20iOiAwLCAibm9XcmFwIjogZmFsc2UsICJvcGFjaXR5IjogMSwgInN1YmRvbWFpbnMiOiAiYWJjIiwgInRtcyI6IGZhbHNlfQogICAgICAgICAgICApLmFkZFRvKG1hcF80N2Q4YmJiMTQzMjY0ZDZkYjA3NTRiM2E4YTFhOWEzZCk7CiAgICAgICAgCiAgICAKICAgICAgICAgICAgdmFyIG1hcmtlcl8wY2U1ODJlNDhjNzQ0Mzk0Yjg5OTEyMThhNWVhNzhjNyA9IEwubWFya2VyKAogICAgICAgICAgICAgICAgWzQwLjc0ODY0MSwgLTczLjk4MTk0N10sCiAgICAgICAgICAgICAgICB7fQogICAgICAgICAgICApLmFkZFRvKG1hcF80N2Q4YmJiMTQzMjY0ZDZkYjA3NTRiM2E4YTFhOWEzZCk7CiAgICAgICAgCiAgICAKICAgICAgICAgICAgdmFyIGljb25fZGQ3NzA0NTFhYTQ1NGFiYTgxOTA4YjZjM2NiMjQ0Y2QgPSBMLkF3ZXNvbWVNYXJrZXJzLmljb24oCiAgICAgICAgICAgICAgICB7ImV4dHJhQ2xhc3NlcyI6ICJmYS1yb3RhdGUtMCIsICJpY29uIjogImZhLWJ1aWxkaW5nIiwgImljb25Db2xvciI6ICJibGFjayIsICJtYXJrZXJDb2xvciI6ICJibHVlIiwgInByZWZpeCI6ICJmYSJ9CiAgICAgICAgICAgICk7CiAgICAgICAgICAgIG1hcmtlcl8wY2U1ODJlNDhjNzQ0Mzk0Yjg5OTEyMThhNWVhNzhjNy5zZXRJY29uKGljb25fZGQ3NzA0NTFhYTQ1NGFiYTgxOTA4YjZjM2NiMjQ0Y2QpOwogICAgICAgIAogICAgCiAgICAgICAgICAgIG1hcmtlcl8wY2U1ODJlNDhjNzQ0Mzk0Yjg5OTEyMThhNWVhNzhjNy5iaW5kVG9vbHRpcCgKICAgICAgICAgICAgICAgIGA8ZGl2PgogICAgICAgICAgICAgICAgICAgICBRdHJheAogICAgICAgICAgICAgICAgIDwvZGl2PmAsCiAgICAgICAgICAgICAgICB7InN0aWNreSI6IHRydWV9CiAgICAgICAgICAgICk7CiAgICAgICAgCiAgICAKICAgICAgICAgICAgdmFyIG1hcmtlcl9lOTI1NTJhNjczOWY0MTg3YjQzNzY4Njk3YTgwNGVmYSA9IEwubWFya2VyKAogICAgICAgICAgICAgICAgWzQwLjc1NzkyOSwgLTczLjk4NTUwNl0sCiAgICAgICAgICAgICAgICB7fQogICAgICAgICAgICApLmFkZFRvKG1hcF80N2Q4YmJiMTQzMjY0ZDZkYjA3NTRiM2E4YTFhOWEzZCk7CiAgICAgICAgCiAgICAKICAgICAgICAgICAgdmFyIGljb25fZDRjYmVhMzM0OGMxNGUxZGI4Y2ViNTNjN2M1MjExMTQgPSBMLkF3ZXNvbWVNYXJrZXJzLmljb24oCiAgICAgICAgICAgICAgICB7ImV4dHJhQ2xhc3NlcyI6ICJmYS1yb3RhdGUtMCIsICJpY29uIjogImZhLWJ1aWxkaW5nIiwgImljb25Db2xvciI6ICJibGFjayIsICJtYXJrZXJDb2xvciI6ICJibHVlIiwgInByZWZpeCI6ICJmYSJ9CiAgICAgICAgICAgICk7CiAgICAgICAgICAgIG1hcmtlcl9lOTI1NTJhNjczOWY0MTg3YjQzNzY4Njk3YTgwNGVmYS5zZXRJY29uKGljb25fZDRjYmVhMzM0OGMxNGUxZGI4Y2ViNTNjN2M1MjExMTQpOwogICAgICAgIAogICAgCiAgICAgICAgICAgIG1hcmtlcl9lOTI1NTJhNjczOWY0MTg3YjQzNzY4Njk3YTgwNGVmYS5iaW5kVG9vbHRpcCgKICAgICAgICAgICAgICAgIGA8ZGl2PgogICAgICAgICAgICAgICAgICAgICBDb25jZXJ0QXR0YWNrCiAgICAgICAgICAgICAgICAgPC9kaXY+YCwKICAgICAgICAgICAgICAgIHsic3RpY2t5IjogdHJ1ZX0KICAgICAgICAgICAgKTsKICAgICAgICAKICAgIAogICAgICAgICAgICB2YXIgbWFya2VyXzA0ZDA3YjQ3YWY4ZTQ1MjhiOGVhNWFiNDAwYThlZWFmID0gTC5tYXJrZXIoCiAgICAgICAgICAgICAgICBbNDAuNzUwNTc2LCAtNzMuOTgyNzEzXSwKICAgICAgICAgICAgICAgIHt9CiAgICAgICAgICAgICkuYWRkVG8obWFwXzQ3ZDhiYmIxNDMyNjRkNmRiMDc1NGIzYThhMWE5YTNkKTsKICAgICAgICAKICAgIAogICAgICAgICAgICB2YXIgaWNvbl81NDhmN2NjNmFlYTQ0NjI0ODk0ZmZhNjczNzhmNzNmNiA9IEwuQXdlc29tZU1hcmtlcnMuaWNvbigKICAgICAgICAgICAgICAgIHsiZXh0cmFDbGFzc2VzIjogImZhLXJvdGF0ZS0wIiwgImljb24iOiAiZmEtYnVpbGRpbmciLCAiaWNvbkNvbG9yIjogImJsYWNrIiwgIm1hcmtlckNvbG9yIjogImJsdWUiLCAicHJlZml4IjogImZhIn0KICAgICAgICAgICAgKTsKICAgICAgICAgICAgbWFya2VyXzA0ZDA3YjQ3YWY4ZTQ1MjhiOGVhNWFiNDAwYThlZWFmLnNldEljb24oaWNvbl81NDhmN2NjNmFlYTQ0NjI0ODk0ZmZhNjczNzhmNzNmNik7CiAgICAgICAgCiAgICAKICAgICAgICAgICAgbWFya2VyXzA0ZDA3YjQ3YWY4ZTQ1MjhiOGVhNWFiNDAwYThlZWFmLmJpbmRUb29sdGlwKAogICAgICAgICAgICAgICAgYDxkaXY+CiAgICAgICAgICAgICAgICAgICAgIE1hcnZlbCBFbnRlcnRhaW5tZW50CiAgICAgICAgICAgICAgICAgPC9kaXY+YCwKICAgICAgICAgICAgICAgIHsic3RpY2t5IjogdHJ1ZX0KICAgICAgICAgICAgKTsKICAgICAgICAKICAgIAogICAgICAgICAgICB2YXIgbWFya2VyXzBmMDEwNDU0YjY3MjQxYjdhOTNhZmQyMzFkYzVjZGEwID0gTC5tYXJrZXIoCiAgICAgICAgICAgICAgICBbNDAuNzQ0NTk0LCAtNzMuOTg5Njk4XSwKICAgICAgICAgICAgICAgIHt9CiAgICAgICAgICAgICkuYWRkVG8obWFwXzQ3ZDhiYmIxNDMyNjRkNmRiMDc1NGIzYThhMWE5YTNkKTsKICAgICAgICAKICAgIAogICAgICAgICAgICB2YXIgaWNvbl80OTAwMTNjNmJmOTY0NDMxODFlMWI4MDc4NTJlMGIzNyA9IEwuQXdlc29tZU1hcmtlcnMuaWNvbigKICAgICAgICAgICAgICAgIHsiZXh0cmFDbGFzc2VzIjogImZhLXJvdGF0ZS0wIiwgImljb24iOiAiZmEtYnVpbGRpbmciLCAiaWNvbkNvbG9yIjogImJsYWNrIiwgIm1hcmtlckNvbG9yIjogImJsdWUiLCAicHJlZml4IjogImZhIn0KICAgICAgICAgICAgKTsKICAgICAgICAgICAgbWFya2VyXzBmMDEwNDU0YjY3MjQxYjdhOTNhZmQyMzFkYzVjZGEwLnNldEljb24oaWNvbl80OTAwMTNjNmJmOTY0NDMxODFlMWI4MDc4NTJlMGIzNyk7CiAgICAgICAgCiAgICAKICAgICAgICAgICAgbWFya2VyXzBmMDEwNDU0YjY3MjQxYjdhOTNhZmQyMzFkYzVjZGEwLmJpbmRUb29sdGlwKAogICAgICAgICAgICAgICAgYDxkaXY+CiAgICAgICAgICAgICAgICAgICAgIEZvciBZb3VyIEltYWdpbmF0aW9uCiAgICAgICAgICAgICAgICAgPC9kaXY+YCwKICAgICAgICAgICAgICAgIHsic3RpY2t5IjogdHJ1ZX0KICAgICAgICAgICAgKTsKICAgICAgICAKICAgIAogICAgICAgICAgICB2YXIgbWFya2VyX2ZlZmViN2RkOWI1NTQ5NTI5ZmM1ODE5YjJhM2QzODZiID0gTC5tYXJrZXIoCiAgICAgICAgICAgICAgICBbNDAuNzQ5NTU5NCwgLTczLjk5MTY2MTddLAogICAgICAgICAgICAgICAge30KICAgICAgICAgICAgKS5hZGRUbyhtYXBfNDdkOGJiYjE0MzI2NGQ2ZGIwNzU0YjNhOGExYTlhM2QpOwogICAgICAgIAogICAgCiAgICAgICAgICAgIHZhciBpY29uXzFhZjM3NmE0ZjQ0YjQ5NmU4Zjg3ODNlNjA5ZmE1MDhlID0gTC5Bd2Vzb21lTWFya2Vycy5pY29uKAogICAgICAgICAgICAgICAgeyJleHRyYUNsYXNzZXMiOiAiZmEtcm90YXRlLTAiLCAiaWNvbiI6ICJmYS1idWlsZGluZyIsICJpY29uQ29sb3IiOiAiYmxhY2siLCAibWFya2VyQ29sb3IiOiAiYmx1ZSIsICJwcmVmaXgiOiAiZmEifQogICAgICAgICAgICApOwogICAgICAgICAgICBtYXJrZXJfZmVmZWI3ZGQ5YjU1NDk1MjlmYzU4MTliMmEzZDM4NmIuc2V0SWNvbihpY29uXzFhZjM3NmE0ZjQ0YjQ5NmU4Zjg3ODNlNjA5ZmE1MDhlKTsKICAgICAgICAKICAgIAogICAgICAgICAgICBtYXJrZXJfZmVmZWI3ZGQ5YjU1NDk1MjlmYzU4MTliMmEzZDM4NmIuYmluZFRvb2x0aXAoCiAgICAgICAgICAgICAgICBgPGRpdj4KICAgICAgICAgICAgICAgICAgICAgQ29sbGVnZUNsaWNrVFYKICAgICAgICAgICAgICAgICA8L2Rpdj5gLAogICAgICAgICAgICAgICAgeyJzdGlja3kiOiB0cnVlfQogICAgICAgICAgICApOwogICAgICAgIAogICAgCiAgICAgICAgICAgIHZhciBtYXJrZXJfMGI2OTA2M2Y2MDZmNGIzNWI4MGQ1MjNhYTg0ZjFkNjAgPSBMLm1hcmtlcigKICAgICAgICAgICAgICAgIFs0MC43NTA1OTcsIC03My45ODUyNzNdLAogICAgICAgICAgICAgICAge30KICAgICAgICAgICAgKS5hZGRUbyhtYXBfNDdkOGJiYjE0MzI2NGQ2ZGIwNzU0YjNhOGExYTlhM2QpOwogICAgICAgIAogICAgCiAgICAgICAgICAgIHZhciBpY29uX2NkYzBiMTU3YjlmMTQ5NDk4OGVkMTY5NmZiOTJkZTQ1ID0gTC5Bd2Vzb21lTWFya2Vycy5pY29uKAogICAgICAgICAgICAgICAgeyJleHRyYUNsYXNzZXMiOiAiZmEtcm90YXRlLTAiLCAiaWNvbiI6ICJmYS1idWlsZGluZyIsICJpY29uQ29sb3IiOiAiYmxhY2siLCAibWFya2VyQ29sb3IiOiAiYmx1ZSIsICJwcmVmaXgiOiAiZmEifQogICAgICAgICAgICApOwogICAgICAgICAgICBtYXJrZXJfMGI2OTA2M2Y2MDZmNGIzNWI4MGQ1MjNhYTg0ZjFkNjAuc2V0SWNvbihpY29uX2NkYzBiMTU3YjlmMTQ5NDk4OGVkMTY5NmZiOTJkZTQ1KTsKICAgICAgICAKICAgIAogICAgICAgICAgICBtYXJrZXJfMGI2OTA2M2Y2MDZmNGIzNWI4MGQ1MjNhYTg0ZjFkNjAuYmluZFRvb2x0aXAoCiAgICAgICAgICAgICAgICBgPGRpdj4KICAgICAgICAgICAgICAgICAgICAgQ3Jpc3B5IEdhbWVyCiAgICAgICAgICAgICAgICAgPC9kaXY+YCwKICAgICAgICAgICAgICAgIHsic3RpY2t5IjogdHJ1ZX0KICAgICAgICAgICAgKTsKICAgICAgICAKICAgIAogICAgICAgICAgICB2YXIgbWFya2VyX2NjZjkxY2E4YTdjODQ0NjQ4Yjg2ZGYwNTc3ZmVkYjJhID0gTC5tYXJrZXIoCiAgICAgICAgICAgICAgICBbNDAuNzQzODc3LCAtNzMuOTg2MThdLAogICAgICAgICAgICAgICAge30KICAgICAgICAgICAgKS5hZGRUbyhtYXBfNDdkOGJiYjE0MzI2NGQ2ZGIwNzU0YjNhOGExYTlhM2QpOwogICAgICAgIAogICAgCiAgICAgICAgICAgIHZhciBpY29uX2U3ODMwMTRlYzJiNDQ0ZjJiZjc4ZjQyZGI1MGY0OTI3ID0gTC5Bd2Vzb21lTWFya2Vycy5pY29uKAogICAgICAgICAgICAgICAgeyJleHRyYUNsYXNzZXMiOiAiZmEtcm90YXRlLTAiLCAiaWNvbiI6ICJmYS1idWlsZGluZyIsICJpY29uQ29sb3IiOiAiYmxhY2siLCAibWFya2VyQ29sb3IiOiAiYmx1ZSIsICJwcmVmaXgiOiAiZmEifQogICAgICAgICAgICApOwogICAgICAgICAgICBtYXJrZXJfY2NmOTFjYThhN2M4NDQ2NDhiODZkZjA1NzdmZWRiMmEuc2V0SWNvbihpY29uX2U3ODMwMTRlYzJiNDQ0ZjJiZjc4ZjQyZGI1MGY0OTI3KTsKICAgICAgICAKICAgIAogICAgICAgICAgICBtYXJrZXJfY2NmOTFjYThhN2M4NDQ2NDhiODZkZjA1NzdmZWRiMmEuYmluZFRvb2x0aXAoCiAgICAgICAgICAgICAgICBgPGRpdj4KICAgICAgICAgICAgICAgICAgICAgU2Fhdm4KICAgICAgICAgICAgICAgICA8L2Rpdj5gLAogICAgICAgICAgICAgICAgeyJzdGlja3kiOiB0cnVlfQogICAgICAgICAgICApOwogICAgICAgIAogICAgCiAgICAgICAgICAgIHZhciBtYXJrZXJfZjNlN2Y3Zjk3MDc3NGFkZmFkYTliMTcxZTZkZTFmZDUgPSBMLm1hcmtlcigKICAgICAgICAgICAgICAgIFs0MC43NDM4NzcsIC03My45ODYxOF0sCiAgICAgICAgICAgICAgICB7fQogICAgICAgICAgICApLmFkZFRvKG1hcF80N2Q4YmJiMTQzMjY0ZDZkYjA3NTRiM2E4YTFhOWEzZCk7CiAgICAgICAgCiAgICAKICAgICAgICAgICAgdmFyIGljb25fMzFkZWQzOTZhZTI1NGVhNjgzMTUyNjRmN2U0MzU0ODUgPSBMLkF3ZXNvbWVNYXJrZXJzLmljb24oCiAgICAgICAgICAgICAgICB7ImV4dHJhQ2xhc3NlcyI6ICJmYS1yb3RhdGUtMCIsICJpY29uIjogImZhLWJ1aWxkaW5nIiwgImljb25Db2xvciI6ICJibGFjayIsICJtYXJrZXJDb2xvciI6ICJibHVlIiwgInByZWZpeCI6ICJmYSJ9CiAgICAgICAgICAgICk7CiAgICAgICAgICAgIG1hcmtlcl9mM2U3ZjdmOTcwNzc0YWRmYWRhOWIxNzFlNmRlMWZkNS5zZXRJY29uKGljb25fMzFkZWQzOTZhZTI1NGVhNjgzMTUyNjRmN2U0MzU0ODUpOwogICAgICAgIAogICAgCiAgICAgICAgICAgIG1hcmtlcl9mM2U3ZjdmOTcwNzc0YWRmYWRhOWIxNzFlNmRlMWZkNS5iaW5kVG9vbHRpcCgKICAgICAgICAgICAgICAgIGA8ZGl2PgogICAgICAgICAgICAgICAgICAgICBbMjEyXU1lZGlhCiAgICAgICAgICAgICAgICAgPC9kaXY+YCwKICAgICAgICAgICAgICAgIHsic3RpY2t5IjogdHJ1ZX0KICAgICAgICAgICAgKTsKICAgICAgICAKICAgIAogICAgICAgICAgICB2YXIgbWFya2VyX2YzYWExODUyZjZhZjRlMzM5NmE3NjEwZGE1MTVhOWMzID0gTC5tYXJrZXIoCiAgICAgICAgICAgICAgICBbMjkuNzgwNTQ4OCwgLTk1LjM0NTc5MjFdLAogICAgICAgICAgICAgICAge30KICAgICAgICAgICAgKS5hZGRUbyhtYXBfNDdkOGJiYjE0MzI2NGQ2ZGIwNzU0YjNhOGExYTlhM2QpOwogICAgICAgIAogICAgCiAgICAgICAgICAgIHZhciBpY29uXzBiYmM3ZmFiYTQyMDRiNzY5MzI0ZDA3ZTcyN2E3NjU3ID0gTC5Bd2Vzb21lTWFya2Vycy5pY29uKAogICAgICAgICAgICAgICAgeyJleHRyYUNsYXNzZXMiOiAiZmEtcm90YXRlLTAiLCAiaWNvbiI6ICJmYS1idWlsZGluZyIsICJpY29uQ29sb3IiOiAiYmxhY2siLCAibWFya2VyQ29sb3IiOiAiYmVpZ2UiLCAicHJlZml4IjogImZhIn0KICAgICAgICAgICAgKTsKICAgICAgICAgICAgbWFya2VyX2YzYWExODUyZjZhZjRlMzM5NmE3NjEwZGE1MTVhOWMzLnNldEljb24oaWNvbl8wYmJjN2ZhYmE0MjA0Yjc2OTMyNGQwN2U3MjdhNzY1Nyk7CiAgICAgICAgCiAgICAKICAgICAgICAgICAgbWFya2VyX2YzYWExODUyZjZhZjRlMzM5NmE3NjEwZGE1MTVhOWMzLmJpbmRUb29sdGlwKAogICAgICAgICAgICAgICAgYDxkaXY+CiAgICAgICAgICAgICAgICAgICAgIEJNQyBTb2Z0d2FyZQogICAgICAgICAgICAgICAgIDwvZGl2PmAsCiAgICAgICAgICAgICAgICB7InN0aWNreSI6IHRydWV9CiAgICAgICAgICAgICk7CiAgICAgICAgCiAgICAKICAgICAgICAgICAgdmFyIG1hcmtlcl9jMjhkNjNiNzYzZTA0NTVhYTI1Mjk1ZWNmYjQyZmUxYyA9IEwubWFya2VyKAogICAgICAgICAgICAgICAgWzI5LjUyNzY2NCwgLTk4LjU2Mjk5M10sCiAgICAgICAgICAgICAgICB7fQogICAgICAgICAgICApLmFkZFRvKG1hcF80N2Q4YmJiMTQzMjY0ZDZkYjA3NTRiM2E4YTFhOWEzZCk7CiAgICAgICAgCiAgICAKICAgICAgICAgICAgdmFyIGljb25fMDhmMWUxZDI3MDg1NGM5YmEyMDJlMTdkYjI5NjRlMzAgPSBMLkF3ZXNvbWVNYXJrZXJzLmljb24oCiAgICAgICAgICAgICAgICB7ImV4dHJhQ2xhc3NlcyI6ICJmYS1yb3RhdGUtMCIsICJpY29uIjogImZhLWJ1aWxkaW5nIiwgImljb25Db2xvciI6ICJibGFjayIsICJtYXJrZXJDb2xvciI6ICJiZWlnZSIsICJwcmVmaXgiOiAiZmEifQogICAgICAgICAgICApOwogICAgICAgICAgICBtYXJrZXJfYzI4ZDYzYjc2M2UwNDU1YWEyNTI5NWVjZmI0MmZlMWMuc2V0SWNvbihpY29uXzA4ZjFlMWQyNzA4NTRjOWJhMjAyZTE3ZGIyOTY0ZTMwKTsKICAgICAgICAKICAgIAogICAgICAgICAgICBtYXJrZXJfYzI4ZDYzYjc2M2UwNDU1YWEyNTI5NWVjZmI0MmZlMWMuYmluZFRvb2x0aXAoCiAgICAgICAgICAgICAgICBgPGRpdj4KICAgICAgICAgICAgICAgICAgICAgUmFja3NwYWNlCiAgICAgICAgICAgICAgICAgPC9kaXY+YCwKICAgICAgICAgICAgICAgIHsic3RpY2t5IjogdHJ1ZX0KICAgICAgICAgICAgKTsKICAgICAgICAKICAgIAogICAgICAgICAgICB2YXIgbWFya2VyX2ZmMTIyMDZlNjM4YTRiNmFiOTMzOGFhODQ4MDEzODhmID0gTC5tYXJrZXIoCiAgICAgICAgICAgICAgICBbNDAuMDM3NTc4LCAtNzUuMzY2Mjk5XSwKICAgICAgICAgICAgICAgIHt9CiAgICAgICAgICAgICkuYWRkVG8obWFwXzQ3ZDhiYmIxNDMyNjRkNmRiMDc1NGIzYThhMWE5YTNkKTsKICAgICAgICAKICAgIAogICAgICAgICAgICB2YXIgaWNvbl9hOGFjMTA1NWNhMDA0MTlmYTUwZGY0MjVjNzY0MGY1MCA9IEwuQXdlc29tZU1hcmtlcnMuaWNvbigKICAgICAgICAgICAgICAgIHsiZXh0cmFDbGFzc2VzIjogImZhLXJvdGF0ZS0wIiwgImljb24iOiAiZmEtYnVpbGRpbmciLCAiaWNvbkNvbG9yIjogImJsYWNrIiwgIm1hcmtlckNvbG9yIjogImJlaWdlIiwgInByZWZpeCI6ICJmYSJ9CiAgICAgICAgICAgICk7CiAgICAgICAgICAgIG1hcmtlcl9mZjEyMjA2ZTYzOGE0YjZhYjkzMzhhYTg0ODAxMzg4Zi5zZXRJY29uKGljb25fYThhYzEwNTVjYTAwNDE5ZmE1MGRmNDI1Yzc2NDBmNTApOwogICAgICAgIAogICAgCiAgICAgICAgICAgIG1hcmtlcl9mZjEyMjA2ZTYzOGE0YjZhYjkzMzhhYTg0ODAxMzg4Zi5iaW5kVG9vbHRpcCgKICAgICAgICAgICAgICAgIGA8ZGl2PgogICAgICAgICAgICAgICAgICAgICBRbGlrVGVjaAogICAgICAgICAgICAgICAgIDwvZGl2PmAsCiAgICAgICAgICAgICAgICB7InN0aWNreSI6IHRydWV9CiAgICAgICAgICAgICk7CiAgICAgICAgCiAgICAKICAgICAgICAgICAgdmFyIG1hcmtlcl82NTFlODRiMjNjY2Q0Njc5ODUxZWZmNWQ1OTk5Njg1NiA9IEwubWFya2VyKAogICAgICAgICAgICAgICAgWzM0LjAyODE4MiwgLTExOC40NzI1NzddLAogICAgICAgICAgICAgICAge30KICAgICAgICAgICAgKS5hZGRUbyhtYXBfNDdkOGJiYjE0MzI2NGQ2ZGIwNzU0YjNhOGExYTlhM2QpOwogICAgICAgIAogICAgCiAgICAgICAgICAgIHZhciBpY29uXzZlN2Y2NWVlMzEzMzQ2ZGNhMzFkMTNjMThlMGI1NGE2ID0gTC5Bd2Vzb21lTWFya2Vycy5pY29uKAogICAgICAgICAgICAgICAgeyJleHRyYUNsYXNzZXMiOiAiZmEtcm90YXRlLTAiLCAiaWNvbiI6ICJmYS1idWlsZGluZyIsICJpY29uQ29sb3IiOiAiYmxhY2siLCAibWFya2VyQ29sb3IiOiAiYmVpZ2UiLCAicHJlZml4IjogImZhIn0KICAgICAgICAgICAgKTsKICAgICAgICAgICAgbWFya2VyXzY1MWU4NGIyM2NjZDQ2Nzk4NTFlZmY1ZDU5OTk2ODU2LnNldEljb24oaWNvbl82ZTdmNjVlZTMxMzM0NmRjYTMxZDEzYzE4ZTBiNTRhNik7CiAgICAgICAgCiAgICAKICAgICAgICAgICAgbWFya2VyXzY1MWU4NGIyM2NjZDQ2Nzk4NTFlZmY1ZDU5OTk2ODU2LmJpbmRUb29sdGlwKAogICAgICAgICAgICAgICAgYDxkaXY+CiAgICAgICAgICAgICAgICAgICAgIENvcm5lcnN0b25lIE9uRGVtYW5kCiAgICAgICAgICAgICAgICAgPC9kaXY+YCwKICAgICAgICAgICAgICAgIHsic3RpY2t5IjogdHJ1ZX0KICAgICAgICAgICAgKTsKICAgICAgICAKICAgIAogICAgICAgICAgICB2YXIgbWFya2VyX2IzMGVmYTEyOWY1OTQ1ZTc5N2I5ZWVkNjg2ZTZkMTI2ID0gTC5tYXJrZXIoCiAgICAgICAgICAgICAgICBbMzAuMjQ1NTM1LCAtOTcuODA1NjIxXSwKICAgICAgICAgICAgICAgIHt9CiAgICAgICAgICAgICkuYWRkVG8obWFwXzQ3ZDhiYmIxNDMyNjRkNmRiMDc1NGIzYThhMWE5YTNkKTsKICAgICAgICAKICAgIAogICAgICAgICAgICB2YXIgaWNvbl8wODMxNDVjNjg2NDM0ZDI3YmE3M2I3NTBkOWEzZmMzOSA9IEwuQXdlc29tZU1hcmtlcnMuaWNvbigKICAgICAgICAgICAgICAgIHsiZXh0cmFDbGFzc2VzIjogImZhLXJvdGF0ZS0wIiwgImljb24iOiAiZmEtYnVpbGRpbmciLCAiaWNvbkNvbG9yIjogImJsYWNrIiwgIm1hcmtlckNvbG9yIjogImJlaWdlIiwgInByZWZpeCI6ICJmYSJ9CiAgICAgICAgICAgICk7CiAgICAgICAgICAgIG1hcmtlcl9iMzBlZmExMjlmNTk0NWU3OTdiOWVlZDY4NmU2ZDEyNi5zZXRJY29uKGljb25fMDgzMTQ1YzY4NjQzNGQyN2JhNzNiNzUwZDlhM2ZjMzkpOwogICAgICAgIAogICAgCiAgICAgICAgICAgIG1hcmtlcl9iMzBlZmExMjlmNTk0NWU3OTdiOWVlZDY4NmU2ZDEyNi5iaW5kVG9vbHRpcCgKICAgICAgICAgICAgICAgIGA8ZGl2PgogICAgICAgICAgICAgICAgICAgICBTb2xhcldpbmRzCiAgICAgICAgICAgICAgICAgPC9kaXY+YCwKICAgICAgICAgICAgICAgIHsic3RpY2t5IjogdHJ1ZX0KICAgICAgICAgICAgKTsKICAgICAgICAKICAgIAogICAgICAgICAgICB2YXIgbWFya2VyXzkwMWU5OTFjYzVmYTQ4YTA5N2E4YmVhMDkxYmIzNzVlID0gTC5tYXJrZXIoCiAgICAgICAgICAgICAgICBbMzcuNTU4MywgLTEyMi4zMDEzODVdLAogICAgICAgICAgICAgICAge30KICAgICAgICAgICAgKS5hZGRUbyhtYXBfNDdkOGJiYjE0MzI2NGQ2ZGIwNzU0YjNhOGExYTlhM2QpOwogICAgICAgIAogICAgCiAgICAgICAgICAgIHZhciBpY29uX2QyZDYwNThhNTRhZDQxYmFhZDQwNTUyOGI3NDU4ZWZhID0gTC5Bd2Vzb21lTWFya2Vycy5pY29uKAogICAgICAgICAgICAgICAgeyJleHRyYUNsYXNzZXMiOiAiZmEtcm90YXRlLTAiLCAiaWNvbiI6ICJmYS1idWlsZGluZyIsICJpY29uQ29sb3IiOiAiYmxhY2siLCAibWFya2VyQ29sb3IiOiAiYmVpZ2UiLCAicHJlZml4IjogImZhIn0KICAgICAgICAgICAgKTsKICAgICAgICAgICAgbWFya2VyXzkwMWU5OTFjYzVmYTQ4YTA5N2E4YmVhMDkxYmIzNzVlLnNldEljb24oaWNvbl9kMmQ2MDU4YTU0YWQ0MWJhYWQ0MDU1MjhiNzQ1OGVmYSk7CiAgICAgICAgCiAgICAKICAgICAgICAgICAgbWFya2VyXzkwMWU5OTFjYzVmYTQ4YTA5N2E4YmVhMDkxYmIzNzVlLmJpbmRUb29sdGlwKAogICAgICAgICAgICAgICAgYDxkaXY+CiAgICAgICAgICAgICAgICAgICAgIE1hcmtldG8KICAgICAgICAgICAgICAgICA8L2Rpdj5gLAogICAgICAgICAgICAgICAgeyJzdGlja3kiOiB0cnVlfQogICAgICAgICAgICApOwogICAgICAgIAogICAgCiAgICAgICAgICAgIHZhciBtYXJrZXJfZmQ4M2NkYWI4MGVjNGUxNTlkMWZhN2FkNzkwZTJhYzAgPSBMLm1hcmtlcigKICAgICAgICAgICAgICAgIFszNy40OTg4NDIsIC0xMjIuMjM5ODE1XSwKICAgICAgICAgICAgICAgIHt9CiAgICAgICAgICAgICkuYWRkVG8obWFwXzQ3ZDhiYmIxNDMyNjRkNmRiMDc1NGIzYThhMWE5YTNkKTsKICAgICAgICAKICAgIAogICAgICAgICAgICB2YXIgaWNvbl85YTVmYTk1Y2ZlNGI0YjNlOTQ0ZjhmMDRkMGZlYmJlOCA9IEwuQXdlc29tZU1hcmtlcnMuaWNvbigKICAgICAgICAgICAgICAgIHsiZXh0cmFDbGFzc2VzIjogImZhLXJvdGF0ZS0wIiwgImljb24iOiAiZmEtYnVpbGRpbmciLCAiaWNvbkNvbG9yIjogImJsYWNrIiwgIm1hcmtlckNvbG9yIjogImJlaWdlIiwgInByZWZpeCI6ICJmYSJ9CiAgICAgICAgICAgICk7CiAgICAgICAgICAgIG1hcmtlcl9mZDgzY2RhYjgwZWM0ZTE1OWQxZmE3YWQ3OTBlMmFjMC5zZXRJY29uKGljb25fOWE1ZmE5NWNmZTRiNGIzZTk0NGY4ZjA0ZDBmZWJiZTgpOwogICAgICAgIAogICAgCiAgICAgICAgICAgIG1hcmtlcl9mZDgzY2RhYjgwZWM0ZTE1OWQxZmE3YWQ3OTBlMmFjMC5iaW5kVG9vbHRpcCgKICAgICAgICAgICAgICAgIGA8ZGl2PgogICAgICAgICAgICAgICAgICAgICBEZW1hbmRUZWMKICAgICAgICAgICAgICAgICA8L2Rpdj5gLAogICAgICAgICAgICAgICAgeyJzdGlja3kiOiB0cnVlfQogICAgICAgICAgICApOwogICAgICAgIAogICAgCiAgICAgICAgICAgIHZhciBtYXJrZXJfYTRhNTc0NTgyNWIxNGIyYzk2MjVkOTEyYjI5ODIwZmUgPSBMLm1hcmtlcigKICAgICAgICAgICAgICAgIFszMi44ODA4ODIsIC0xMTcuMjAzMzA5XSwKICAgICAgICAgICAgICAgIHt9CiAgICAgICAgICAgICkuYWRkVG8obWFwXzQ3ZDhiYmIxNDMyNjRkNmRiMDc1NGIzYThhMWE5YTNkKTsKICAgICAgICAKICAgIAogICAgICAgICAgICB2YXIgaWNvbl9lZjhhNmM2MGVhNjE0NjQyYTY3ZWYyMzU0NDZiYWQwZSA9IEwuQXdlc29tZU1hcmtlcnMuaWNvbigKICAgICAgICAgICAgICAgIHsiZXh0cmFDbGFzc2VzIjogImZhLXJvdGF0ZS0wIiwgImljb24iOiAiZmEtYnVpbGRpbmciLCAiaWNvbkNvbG9yIjogImJsYWNrIiwgIm1hcmtlckNvbG9yIjogImJlaWdlIiwgInByZWZpeCI6ICJmYSJ9CiAgICAgICAgICAgICk7CiAgICAgICAgICAgIG1hcmtlcl9hNGE1NzQ1ODI1YjE0YjJjOTYyNWQ5MTJiMjk4MjBmZS5zZXRJY29uKGljb25fZWY4YTZjNjBlYTYxNDY0MmE2N2VmMjM1NDQ2YmFkMGUpOwogICAgICAgIAogICAgCiAgICAgICAgICAgIG1hcmtlcl9hNGE1NzQ1ODI1YjE0YjJjOTYyNWQ5MTJiMjk4MjBmZS5iaW5kVG9vbHRpcCgKICAgICAgICAgICAgICAgIGA8ZGl2PgogICAgICAgICAgICAgICAgICAgICBEaXZYCiAgICAgICAgICAgICAgICAgPC9kaXY+YCwKICAgICAgICAgICAgICAgIHsic3RpY2t5IjogdHJ1ZX0KICAgICAgICAgICAgKTsKICAgICAgICAKICAgIAogICAgICAgICAgICB2YXIgbWFya2VyXzZlZmRiMzk3ZTIyOTQ4YjZhNGQzYzAxODliNDA2N2JiID0gTC5tYXJrZXIoCiAgICAgICAgICAgICAgICBbNDAuNzU1MDAwNSwgLTczLjk3MTczNjRdLAogICAgICAgICAgICAgICAge30KICAgICAgICAgICAgKS5hZGRUbyhtYXBfNDdkOGJiYjE0MzI2NGQ2ZGIwNzU0YjNhOGExYTlhM2QpOwogICAgICAgIAogICAgCiAgICAgICAgICAgIHZhciBpY29uX2IxNDQ4MTM4YjUzMDRiOGY5NjFlZTA2MTZiNGNjZmFkID0gTC5Bd2Vzb21lTWFya2Vycy5pY29uKAogICAgICAgICAgICAgICAgeyJleHRyYUNsYXNzZXMiOiAiZmEtcm90YXRlLTAiLCAiaWNvbiI6ICJmYS1idWlsZGluZyIsICJpY29uQ29sb3IiOiAiYmxhY2siLCAibWFya2VyQ29sb3IiOiAiYmVpZ2UiLCAicHJlZml4IjogImZhIn0KICAgICAgICAgICAgKTsKICAgICAgICAgICAgbWFya2VyXzZlZmRiMzk3ZTIyOTQ4YjZhNGQzYzAxODliNDA2N2JiLnNldEljb24oaWNvbl9iMTQ0ODEzOGI1MzA0YjhmOTYxZWUwNjE2YjRjY2ZhZCk7CiAgICAgICAgCiAgICAKICAgICAgICAgICAgbWFya2VyXzZlZmRiMzk3ZTIyOTQ4YjZhNGQzYzAxODliNDA2N2JiLmJpbmRUb29sdGlwKAogICAgICAgICAgICAgICAgYDxkaXY+CiAgICAgICAgICAgICAgICAgICAgIFZyaW5nbwogICAgICAgICAgICAgICAgIDwvZGl2PmAsCiAgICAgICAgICAgICAgICB7InN0aWNreSI6IHRydWV9CiAgICAgICAgICAgICk7CiAgICAgICAgCjwvc2NyaXB0Pg== onload=\"this.contentDocument.open();this.contentDocument.write(atob(this.getAttribute('data-html')));this.contentDocument.close();\" allowfullscreen webkitallowfullscreen mozallowfullscreen></iframe></div></div>"
      ],
      "text/plain": [
       "<folium.folium.Map at 0x25a3364fa30>"
      ]
     },
     "execution_count": 98,
     "metadata": {},
     "output_type": "execute_result"
    }
   ],
   "source": [
    "#Genero mapa con las empresas de juego cercanas a las escuelas (azul = empresas de juego) (beige = empresa de software)\n",
    "map_2 = mp.Create_map (40.7495594, -73.9916617)\n",
    "\n",
    "mp.add_market (map_2, game_filter2, 'fa-building', 'blue')\n",
    "mp.add_market (map_2, dict_software, 'fa-building', \"beige\")"
   ]
  },
  {
   "cell_type": "code",
   "execution_count": 99,
   "metadata": {},
   "outputs": [],
   "source": [
    "#llamar a la API y obtener los Airport cercanas a cada empresa\n",
    "list_Airport = cr.call_url(game_filter2, 'Airport', 3, 3)\n",
    "list_Airport = cr.dic_ini(list_Airport, 'Airport')\n",
    "fin_Airport = cr.dic_final(list_Airport)"
   ]
  },
  {
   "cell_type": "code",
   "execution_count": 100,
   "metadata": {},
   "outputs": [],
   "source": [
    "cr.create_collection ('Airport', fin_Airport)\n",
    "at= db.get_collection(\"Airport\")  "
   ]
  },
  {
   "cell_type": "code",
   "execution_count": 101,
   "metadata": {},
   "outputs": [],
   "source": [
    "# Comparo cuales Airport estan en un radio de 2km y cuento cuantas hay para cada empresa de juego\n",
    "game_and_Airport= cr.create_index(at,game_filter2, 2)\n",
    "game_and_Airport = cr.count_items(game_and_Airport)\n",
    "    "
   ]
  },
  {
   "cell_type": "code",
   "execution_count": 102,
   "metadata": {},
   "outputs": [
    {
     "data": {
      "text/html": [
       "<div>\n",
       "<style scoped>\n",
       "    .dataframe tbody tr th:only-of-type {\n",
       "        vertical-align: middle;\n",
       "    }\n",
       "\n",
       "    .dataframe tbody tr th {\n",
       "        vertical-align: top;\n",
       "    }\n",
       "\n",
       "    .dataframe thead th {\n",
       "        text-align: right;\n",
       "    }\n",
       "</style>\n",
       "<table border=\"1\" class=\"dataframe\">\n",
       "  <thead>\n",
       "    <tr style=\"text-align: right;\">\n",
       "      <th></th>\n",
       "      <th>name</th>\n",
       "      <th>comp_near</th>\n",
       "      <th>Total</th>\n",
       "    </tr>\n",
       "  </thead>\n",
       "  <tbody>\n",
       "    <tr>\n",
       "      <th>1</th>\n",
       "      <td>ConcertAttack</td>\n",
       "      <td>[Jack Lucas Airfield, Terminal 5, Atlantic Avi...</td>\n",
       "      <td>3</td>\n",
       "    </tr>\n",
       "    <tr>\n",
       "      <th>3</th>\n",
       "      <td>For Your Imagination</td>\n",
       "      <td>[Atlantic Aviation, PH Helipad, Jack Lucas Air...</td>\n",
       "      <td>3</td>\n",
       "    </tr>\n",
       "    <tr>\n",
       "      <th>4</th>\n",
       "      <td>CollegeClickTV</td>\n",
       "      <td>[Jack Lucas Airfield, Atlantic Aviation, PH He...</td>\n",
       "      <td>3</td>\n",
       "    </tr>\n",
       "    <tr>\n",
       "      <th>6</th>\n",
       "      <td>Saavn</td>\n",
       "      <td>[Atlantic Aviation, Jack Lucas Airfield, PH He...</td>\n",
       "      <td>3</td>\n",
       "    </tr>\n",
       "  </tbody>\n",
       "</table>\n",
       "</div>"
      ],
      "text/plain": [
       "                   name                                          comp_near  \\\n",
       "1         ConcertAttack  [Jack Lucas Airfield, Terminal 5, Atlantic Avi...   \n",
       "3  For Your Imagination  [Atlantic Aviation, PH Helipad, Jack Lucas Air...   \n",
       "4        CollegeClickTV  [Jack Lucas Airfield, Atlantic Aviation, PH He...   \n",
       "6                 Saavn  [Atlantic Aviation, Jack Lucas Airfield, PH He...   \n",
       "\n",
       "   Total  \n",
       "1      3  \n",
       "3      3  \n",
       "4      3  \n",
       "6      3  "
      ]
     },
     "execution_count": 102,
     "metadata": {},
     "output_type": "execute_result"
    }
   ],
   "source": [
    "# generar un data frame y ordenarlo de manera descendiente por el numero de Airport cercanas, nos quedamos con las 4 primeras\n",
    "df_game_air=pd.DataFrame(game_and_Airport)\n",
    "game_air = df_game_air.sort_values('Total', ascending=False)\n",
    "game_air=game_air.head(4)\n",
    "game_air"
   ]
  },
  {
   "cell_type": "code",
   "execution_count": 103,
   "metadata": {},
   "outputs": [],
   "source": [
    "# Flitrar la coleccion por los nombre de las empresas obtenidos anteriormente\n",
    "game_filter3=cg.find({'name': {\"$in\": game_air['name'].tolist()}})\n",
    "game_filter3=list(game_filter3)"
   ]
  },
  {
   "cell_type": "code",
   "execution_count": 104,
   "metadata": {},
   "outputs": [
    {
     "data": {
      "text/html": [
       "<div>\n",
       "<style scoped>\n",
       "    .dataframe tbody tr th:only-of-type {\n",
       "        vertical-align: middle;\n",
       "    }\n",
       "\n",
       "    .dataframe tbody tr th {\n",
       "        vertical-align: top;\n",
       "    }\n",
       "\n",
       "    .dataframe thead th {\n",
       "        text-align: right;\n",
       "    }\n",
       "</style>\n",
       "<table border=\"1\" class=\"dataframe\">\n",
       "  <thead>\n",
       "    <tr style=\"text-align: right;\">\n",
       "      <th></th>\n",
       "      <th>name</th>\n",
       "      <th>location</th>\n",
       "    </tr>\n",
       "  </thead>\n",
       "  <tbody>\n",
       "    <tr>\n",
       "      <th>0</th>\n",
       "      <td>ConcertAttack</td>\n",
       "      <td>{'coordinates': [-73.985506, 40.757929], 'type...</td>\n",
       "    </tr>\n",
       "    <tr>\n",
       "      <th>1</th>\n",
       "      <td>For Your Imagination</td>\n",
       "      <td>{'coordinates': [-73.989698, 40.744594], 'type...</td>\n",
       "    </tr>\n",
       "    <tr>\n",
       "      <th>2</th>\n",
       "      <td>CollegeClickTV</td>\n",
       "      <td>{'coordinates': [-73.9916617, 40.7495594], 'ty...</td>\n",
       "    </tr>\n",
       "    <tr>\n",
       "      <th>3</th>\n",
       "      <td>Saavn</td>\n",
       "      <td>{'coordinates': [-73.98618, 40.743877], 'type'...</td>\n",
       "    </tr>\n",
       "  </tbody>\n",
       "</table>\n",
       "</div>"
      ],
      "text/plain": [
       "                   name                                           location\n",
       "0         ConcertAttack  {'coordinates': [-73.985506, 40.757929], 'type...\n",
       "1  For Your Imagination  {'coordinates': [-73.989698, 40.744594], 'type...\n",
       "2        CollegeClickTV  {'coordinates': [-73.9916617, 40.7495594], 'ty...\n",
       "3                 Saavn  {'coordinates': [-73.98618, 40.743877], 'type'..."
      ]
     },
     "execution_count": 104,
     "metadata": {},
     "output_type": "execute_result"
    }
   ],
   "source": [
    "pd.DataFrame(game_filter3)[['name','location']]"
   ]
  },
  {
   "cell_type": "code",
   "execution_count": 105,
   "metadata": {},
   "outputs": [
    {
     "data": {
      "text/html": [
       "<div style=\"width:100%;\"><div style=\"position:relative;width:100%;height:0;padding-bottom:60%;\"><span style=\"color:#565656\">Make this Notebook Trusted to load map: File -> Trust Notebook</span><iframe src=\"about:blank\" style=\"position:absolute;width:100%;height:100%;left:0;top:0;border:none !important;\" data-html=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 onload=\"this.contentDocument.open();this.contentDocument.write(atob(this.getAttribute('data-html')));this.contentDocument.close();\" allowfullscreen webkitallowfullscreen mozallowfullscreen></iframe></div></div>"
      ],
      "text/plain": [
       "<folium.folium.Map at 0x25a3369d820>"
      ]
     },
     "execution_count": 105,
     "metadata": {},
     "output_type": "execute_result"
    }
   ],
   "source": [
    "#Genero mapa con las empresas de juego cercanas a los terminales de aeropuertos (azul = empresas de juego) (beige = empresa de software)\n",
    "map_3 = mp.Create_map (40.7495594, -73.9916617)\n",
    "\n",
    "mp.add_market (map_3, game_filter3, 'fa-building', 'blue')\n",
    "mp.add_market (map_3, dict_software, 'fa-building', \"beige\")"
   ]
  },
  {
   "cell_type": "code",
   "execution_count": 106,
   "metadata": {},
   "outputs": [],
   "source": [
    "# llamar a la API y obtener los Restauran Vegano cercanas a cada empresa\n",
    "list_Vegan = cr.call_url(game_filter3, 'vegan', 4, 5)\n",
    "list_Vegan = cr.dic_ini (list_Vegan, 'vegan')\n",
    "fin_vegan = cr.dic_final(list_Vegan)"
   ]
  },
  {
   "cell_type": "code",
   "execution_count": 107,
   "metadata": {},
   "outputs": [],
   "source": [
    "\n",
    "cr.create_collection ('Vegan', fin_vegan)\n",
    "vg= db.get_collection(\"Vegan\")    "
   ]
  },
  {
   "cell_type": "code",
   "execution_count": 108,
   "metadata": {},
   "outputs": [],
   "source": [
    "# Comparo cuales restaurantes veganos estan en un radio de 2km y cuento cuantas hay para cada empresa de juego\n",
    "game_and_Vegan= cr.create_index(vg,game_filter3, 2)\n",
    "game_and_Vegan = cr.count_items(game_and_Vegan)"
   ]
  },
  {
   "cell_type": "code",
   "execution_count": 109,
   "metadata": {},
   "outputs": [
    {
     "data": {
      "text/html": [
       "<div>\n",
       "<style scoped>\n",
       "    .dataframe tbody tr th:only-of-type {\n",
       "        vertical-align: middle;\n",
       "    }\n",
       "\n",
       "    .dataframe tbody tr th {\n",
       "        vertical-align: top;\n",
       "    }\n",
       "\n",
       "    .dataframe thead th {\n",
       "        text-align: right;\n",
       "    }\n",
       "</style>\n",
       "<table border=\"1\" class=\"dataframe\">\n",
       "  <thead>\n",
       "    <tr style=\"text-align: right;\">\n",
       "      <th></th>\n",
       "      <th>name</th>\n",
       "      <th>comp_near</th>\n",
       "      <th>Total</th>\n",
       "    </tr>\n",
       "  </thead>\n",
       "  <tbody>\n",
       "    <tr>\n",
       "      <th>2</th>\n",
       "      <td>CollegeClickTV</td>\n",
       "      <td>[Dig Inn, sweetgreen, Hangawi, Franchia, abcV,...</td>\n",
       "      <td>9</td>\n",
       "    </tr>\n",
       "    <tr>\n",
       "      <th>0</th>\n",
       "      <td>ConcertAttack</td>\n",
       "      <td>[P.S. Kitchen, Dig Inn, MTHR Vegan, by CHLOE.,...</td>\n",
       "      <td>8</td>\n",
       "    </tr>\n",
       "    <tr>\n",
       "      <th>1</th>\n",
       "      <td>For Your Imagination</td>\n",
       "      <td>[sweetgreen, Hangawi, abcV, Franchia, Dig Inn,...</td>\n",
       "      <td>8</td>\n",
       "    </tr>\n",
       "    <tr>\n",
       "      <th>3</th>\n",
       "      <td>Saavn</td>\n",
       "      <td>[sweetgreen, Hangawi, Franchia, abcV, Dig Inn,...</td>\n",
       "      <td>7</td>\n",
       "    </tr>\n",
       "  </tbody>\n",
       "</table>\n",
       "</div>"
      ],
      "text/plain": [
       "                   name                                          comp_near  \\\n",
       "2        CollegeClickTV  [Dig Inn, sweetgreen, Hangawi, Franchia, abcV,...   \n",
       "0         ConcertAttack  [P.S. Kitchen, Dig Inn, MTHR Vegan, by CHLOE.,...   \n",
       "1  For Your Imagination  [sweetgreen, Hangawi, abcV, Franchia, Dig Inn,...   \n",
       "3                 Saavn  [sweetgreen, Hangawi, Franchia, abcV, Dig Inn,...   \n",
       "\n",
       "   Total  \n",
       "2      9  \n",
       "0      8  \n",
       "1      8  \n",
       "3      7  "
      ]
     },
     "execution_count": 109,
     "metadata": {},
     "output_type": "execute_result"
    }
   ],
   "source": [
    "# generar un data frame y ordenarlo de manera descendiente por el numero de Restauran Veganos cercanas, nos quedamos con las 4 primeras\n",
    "df_game_vegan=pd.DataFrame(game_and_Vegan)\n",
    "game_vegan = df_game_vegan.sort_values('Total', ascending=False)\n",
    "game_vegan=game_vegan.head(4)\n",
    "game_vegan"
   ]
  },
  {
   "cell_type": "code",
   "execution_count": 110,
   "metadata": {},
   "outputs": [],
   "source": [
    "# Flitrar la coleccion por los nombre de las empresas obtenidos anteriormente\n",
    "game_filter4=cg.find({'name': {\"$in\": game_vegan['name'].tolist()}})\n",
    "game_filter4=list(game_filter4)"
   ]
  },
  {
   "cell_type": "code",
   "execution_count": 111,
   "metadata": {},
   "outputs": [
    {
     "data": {
      "text/html": [
       "<div>\n",
       "<style scoped>\n",
       "    .dataframe tbody tr th:only-of-type {\n",
       "        vertical-align: middle;\n",
       "    }\n",
       "\n",
       "    .dataframe tbody tr th {\n",
       "        vertical-align: top;\n",
       "    }\n",
       "\n",
       "    .dataframe thead th {\n",
       "        text-align: right;\n",
       "    }\n",
       "</style>\n",
       "<table border=\"1\" class=\"dataframe\">\n",
       "  <thead>\n",
       "    <tr style=\"text-align: right;\">\n",
       "      <th></th>\n",
       "      <th>name</th>\n",
       "      <th>location</th>\n",
       "    </tr>\n",
       "  </thead>\n",
       "  <tbody>\n",
       "    <tr>\n",
       "      <th>0</th>\n",
       "      <td>ConcertAttack</td>\n",
       "      <td>{'coordinates': [-73.985506, 40.757929], 'type...</td>\n",
       "    </tr>\n",
       "    <tr>\n",
       "      <th>1</th>\n",
       "      <td>For Your Imagination</td>\n",
       "      <td>{'coordinates': [-73.989698, 40.744594], 'type...</td>\n",
       "    </tr>\n",
       "    <tr>\n",
       "      <th>2</th>\n",
       "      <td>CollegeClickTV</td>\n",
       "      <td>{'coordinates': [-73.9916617, 40.7495594], 'ty...</td>\n",
       "    </tr>\n",
       "    <tr>\n",
       "      <th>3</th>\n",
       "      <td>Saavn</td>\n",
       "      <td>{'coordinates': [-73.98618, 40.743877], 'type'...</td>\n",
       "    </tr>\n",
       "  </tbody>\n",
       "</table>\n",
       "</div>"
      ],
      "text/plain": [
       "                   name                                           location\n",
       "0         ConcertAttack  {'coordinates': [-73.985506, 40.757929], 'type...\n",
       "1  For Your Imagination  {'coordinates': [-73.989698, 40.744594], 'type...\n",
       "2        CollegeClickTV  {'coordinates': [-73.9916617, 40.7495594], 'ty...\n",
       "3                 Saavn  {'coordinates': [-73.98618, 40.743877], 'type'..."
      ]
     },
     "execution_count": 111,
     "metadata": {},
     "output_type": "execute_result"
    }
   ],
   "source": [
    "pd.DataFrame(game_filter4)[['name','location']]"
   ]
  },
  {
   "cell_type": "code",
   "execution_count": 112,
   "metadata": {},
   "outputs": [],
   "source": [
    "# llamar a la API y obtener las de basket cercanas a cada empresa\n",
    "list_Basketball = cr.call_url(game_filter4, 'Basketball', 10, 2)\n",
    "list_Basketball = cr.dic_ini (list_Basketball, 'Basketball')\n",
    "fin_Basketball = cr.dic_final(list_Basketball)"
   ]
  },
  {
   "cell_type": "code",
   "execution_count": 113,
   "metadata": {},
   "outputs": [],
   "source": [
    "\n",
    "cr.create_collection ('Basketball', fin_Basketball)\n",
    "bs= db.get_collection(\"Basketball\")    "
   ]
  },
  {
   "cell_type": "code",
   "execution_count": 114,
   "metadata": {},
   "outputs": [],
   "source": [
    "# Comparo cuales canchas de basket estan en un radio de 3km y cuento cuantas hay para cada empresa de juego\n",
    "game_and_Basketball= cr.create_index(bs,game_filter4, 3)\n",
    "game_and_Basketball = cr.count_items(game_and_Basketball)"
   ]
  },
  {
   "cell_type": "code",
   "execution_count": 115,
   "metadata": {},
   "outputs": [
    {
     "data": {
      "text/html": [
       "<div>\n",
       "<style scoped>\n",
       "    .dataframe tbody tr th:only-of-type {\n",
       "        vertical-align: middle;\n",
       "    }\n",
       "\n",
       "    .dataframe tbody tr th {\n",
       "        vertical-align: top;\n",
       "    }\n",
       "\n",
       "    .dataframe thead th {\n",
       "        text-align: right;\n",
       "    }\n",
       "</style>\n",
       "<table border=\"1\" class=\"dataframe\">\n",
       "  <thead>\n",
       "    <tr style=\"text-align: right;\">\n",
       "      <th></th>\n",
       "      <th>name</th>\n",
       "      <th>comp_near</th>\n",
       "      <th>Total</th>\n",
       "    </tr>\n",
       "  </thead>\n",
       "  <tbody>\n",
       "    <tr>\n",
       "      <th>1</th>\n",
       "      <td>For Your Imagination</td>\n",
       "      <td>[Chelsea Piers Field House, West 4th Street Co...</td>\n",
       "      <td>2</td>\n",
       "    </tr>\n",
       "    <tr>\n",
       "      <th>2</th>\n",
       "      <td>CollegeClickTV</td>\n",
       "      <td>[Chelsea Piers Field House, West 4th Street Co...</td>\n",
       "      <td>2</td>\n",
       "    </tr>\n",
       "    <tr>\n",
       "      <th>3</th>\n",
       "      <td>Saavn</td>\n",
       "      <td>[West 4th Street Courts (The Cage), Chelsea Pi...</td>\n",
       "      <td>2</td>\n",
       "    </tr>\n",
       "    <tr>\n",
       "      <th>0</th>\n",
       "      <td>ConcertAttack</td>\n",
       "      <td>[Chelsea Piers Field House]</td>\n",
       "      <td>1</td>\n",
       "    </tr>\n",
       "  </tbody>\n",
       "</table>\n",
       "</div>"
      ],
      "text/plain": [
       "                   name                                          comp_near  \\\n",
       "1  For Your Imagination  [Chelsea Piers Field House, West 4th Street Co...   \n",
       "2        CollegeClickTV  [Chelsea Piers Field House, West 4th Street Co...   \n",
       "3                 Saavn  [West 4th Street Courts (The Cage), Chelsea Pi...   \n",
       "0         ConcertAttack                        [Chelsea Piers Field House]   \n",
       "\n",
       "   Total  \n",
       "1      2  \n",
       "2      2  \n",
       "3      2  \n",
       "0      1  "
      ]
     },
     "execution_count": 115,
     "metadata": {},
     "output_type": "execute_result"
    }
   ],
   "source": [
    "# generar un data frame y ordenarlo de manera descendiente por el numero de canchas de basket cercanas.\n",
    "df_game_basket=pd.DataFrame(game_and_Basketball)\n",
    "game_basket = df_game_basket.sort_values('Total', ascending=False)\n",
    "game_basket"
   ]
  },
  {
   "cell_type": "code",
   "execution_count": 116,
   "metadata": {},
   "outputs": [
    {
     "data": {
      "text/html": [
       "<div>\n",
       "<style scoped>\n",
       "    .dataframe tbody tr th:only-of-type {\n",
       "        vertical-align: middle;\n",
       "    }\n",
       "\n",
       "    .dataframe tbody tr th {\n",
       "        vertical-align: top;\n",
       "    }\n",
       "\n",
       "    .dataframe thead th {\n",
       "        text-align: right;\n",
       "    }\n",
       "</style>\n",
       "<table border=\"1\" class=\"dataframe\">\n",
       "  <thead>\n",
       "    <tr style=\"text-align: right;\">\n",
       "      <th></th>\n",
       "      <th>name</th>\n",
       "      <th>location</th>\n",
       "    </tr>\n",
       "  </thead>\n",
       "  <tbody>\n",
       "    <tr>\n",
       "      <th>0</th>\n",
       "      <td>ConcertAttack</td>\n",
       "      <td>{'coordinates': [-73.985506, 40.757929], 'type...</td>\n",
       "    </tr>\n",
       "    <tr>\n",
       "      <th>1</th>\n",
       "      <td>For Your Imagination</td>\n",
       "      <td>{'coordinates': [-73.989698, 40.744594], 'type...</td>\n",
       "    </tr>\n",
       "    <tr>\n",
       "      <th>2</th>\n",
       "      <td>CollegeClickTV</td>\n",
       "      <td>{'coordinates': [-73.9916617, 40.7495594], 'ty...</td>\n",
       "    </tr>\n",
       "    <tr>\n",
       "      <th>3</th>\n",
       "      <td>Saavn</td>\n",
       "      <td>{'coordinates': [-73.98618, 40.743877], 'type'...</td>\n",
       "    </tr>\n",
       "  </tbody>\n",
       "</table>\n",
       "</div>"
      ],
      "text/plain": [
       "                   name                                           location\n",
       "0         ConcertAttack  {'coordinates': [-73.985506, 40.757929], 'type...\n",
       "1  For Your Imagination  {'coordinates': [-73.989698, 40.744594], 'type...\n",
       "2        CollegeClickTV  {'coordinates': [-73.9916617, 40.7495594], 'ty...\n",
       "3                 Saavn  {'coordinates': [-73.98618, 40.743877], 'type'..."
      ]
     },
     "execution_count": 116,
     "metadata": {},
     "output_type": "execute_result"
    }
   ],
   "source": [
    "pd.DataFrame(game_filter4)[['name','location']]"
   ]
  },
  {
   "cell_type": "code",
   "execution_count": 117,
   "metadata": {},
   "outputs": [],
   "source": [
    "# llamar a la API y obtener las cafeterias cercanas a cada empresa\n",
    "list_Cafeteria = cr.call_url(game_filter4, 'Cafeteria', 2, 3)\n",
    "list_Cafeteria = cr.dic_ini (list_Cafeteria, 'Cafeteria')\n",
    "fin_Cafeteria = cr.dic_final(list_Cafeteria)    "
   ]
  },
  {
   "cell_type": "code",
   "execution_count": 118,
   "metadata": {},
   "outputs": [],
   "source": [
    "cr.create_collection ('Cafeteria', fin_Cafeteria)\n",
    "ca= db.get_collection(\"Cafeteria\")  "
   ]
  },
  {
   "cell_type": "code",
   "execution_count": 119,
   "metadata": {},
   "outputs": [],
   "source": [
    "# Comparo cuales cafeterias estan en un radio de 1km y cuento cuantas hay para cada empresa de juego\n",
    "game_and_Cafeteria= cr.create_index(ca,game_filter4, 1)\n",
    "game_and_Cafeteria = cr.count_items(game_and_Cafeteria)"
   ]
  },
  {
   "cell_type": "code",
   "execution_count": 120,
   "metadata": {},
   "outputs": [
    {
     "data": {
      "text/html": [
       "<div>\n",
       "<style scoped>\n",
       "    .dataframe tbody tr th:only-of-type {\n",
       "        vertical-align: middle;\n",
       "    }\n",
       "\n",
       "    .dataframe tbody tr th {\n",
       "        vertical-align: top;\n",
       "    }\n",
       "\n",
       "    .dataframe thead th {\n",
       "        text-align: right;\n",
       "    }\n",
       "</style>\n",
       "<table border=\"1\" class=\"dataframe\">\n",
       "  <thead>\n",
       "    <tr style=\"text-align: right;\">\n",
       "      <th></th>\n",
       "      <th>name</th>\n",
       "      <th>comp_near</th>\n",
       "      <th>Total</th>\n",
       "    </tr>\n",
       "  </thead>\n",
       "  <tbody>\n",
       "    <tr>\n",
       "      <th>0</th>\n",
       "      <td>ConcertAttack</td>\n",
       "      <td>[GFG Bakery Cafe, Café Zaiya]</td>\n",
       "      <td>2</td>\n",
       "    </tr>\n",
       "    <tr>\n",
       "      <th>1</th>\n",
       "      <td>For Your Imagination</td>\n",
       "      <td>[Il Pesce, Cafeteria]</td>\n",
       "      <td>2</td>\n",
       "    </tr>\n",
       "    <tr>\n",
       "      <th>2</th>\n",
       "      <td>CollegeClickTV</td>\n",
       "      <td>[Il Pesce, Café Zaiya]</td>\n",
       "      <td>2</td>\n",
       "    </tr>\n",
       "  </tbody>\n",
       "</table>\n",
       "</div>"
      ],
      "text/plain": [
       "                   name                      comp_near  Total\n",
       "0         ConcertAttack  [GFG Bakery Cafe, Café Zaiya]      2\n",
       "1  For Your Imagination          [Il Pesce, Cafeteria]      2\n",
       "2        CollegeClickTV         [Il Pesce, Café Zaiya]      2"
      ]
     },
     "execution_count": 120,
     "metadata": {},
     "output_type": "execute_result"
    }
   ],
   "source": [
    "# generar un data frame y ordenarlo de manera descendiente por el numero de Cafeterias cercanas, nos quedamos con las 3 primeras\n",
    "df_game_Cafeteria=pd.DataFrame(game_and_Cafeteria)\n",
    "game_Cafeteria = df_game_Cafeteria.sort_values('Total', ascending=False)\n",
    "game_Cafeteria = game_Cafeteria.head(3)\n",
    "game_Cafeteria"
   ]
  },
  {
   "cell_type": "code",
   "execution_count": 121,
   "metadata": {},
   "outputs": [
    {
     "data": {
      "text/html": [
       "<div>\n",
       "<style scoped>\n",
       "    .dataframe tbody tr th:only-of-type {\n",
       "        vertical-align: middle;\n",
       "    }\n",
       "\n",
       "    .dataframe tbody tr th {\n",
       "        vertical-align: top;\n",
       "    }\n",
       "\n",
       "    .dataframe thead th {\n",
       "        text-align: right;\n",
       "    }\n",
       "</style>\n",
       "<table border=\"1\" class=\"dataframe\">\n",
       "  <thead>\n",
       "    <tr style=\"text-align: right;\">\n",
       "      <th></th>\n",
       "      <th>_id</th>\n",
       "      <th>location</th>\n",
       "      <th>name</th>\n",
       "    </tr>\n",
       "  </thead>\n",
       "  <tbody>\n",
       "    <tr>\n",
       "      <th>0</th>\n",
       "      <td>5fb323c6fd64242aa93b9346</td>\n",
       "      <td>{'coordinates': [-73.985506, 40.757929], 'type...</td>\n",
       "      <td>ConcertAttack</td>\n",
       "    </tr>\n",
       "    <tr>\n",
       "      <th>1</th>\n",
       "      <td>5fb323c6fd64242aa93b93b0</td>\n",
       "      <td>{'coordinates': [-73.989698, 40.744594], 'type...</td>\n",
       "      <td>For Your Imagination</td>\n",
       "    </tr>\n",
       "    <tr>\n",
       "      <th>2</th>\n",
       "      <td>5fb323c6fd64242aa93b93f0</td>\n",
       "      <td>{'coordinates': [-73.9916617, 40.7495594], 'ty...</td>\n",
       "      <td>CollegeClickTV</td>\n",
       "    </tr>\n",
       "  </tbody>\n",
       "</table>\n",
       "</div>"
      ],
      "text/plain": [
       "                        _id  \\\n",
       "0  5fb323c6fd64242aa93b9346   \n",
       "1  5fb323c6fd64242aa93b93b0   \n",
       "2  5fb323c6fd64242aa93b93f0   \n",
       "\n",
       "                                            location                  name  \n",
       "0  {'coordinates': [-73.985506, 40.757929], 'type...         ConcertAttack  \n",
       "1  {'coordinates': [-73.989698, 40.744594], 'type...  For Your Imagination  \n",
       "2  {'coordinates': [-73.9916617, 40.7495594], 'ty...        CollegeClickTV  "
      ]
     },
     "execution_count": 121,
     "metadata": {},
     "output_type": "execute_result"
    }
   ],
   "source": [
    "# Flitrar la coleccion por los nombre de las empresas obtenidos anteriormente\n",
    "game_filter5=cg.find({'name': {\"$in\": game_Cafeteria['name'].tolist()}})\n",
    "game_filter5=list(game_filter5)\n",
    "pd.DataFrame(game_filter5)\n"
   ]
  },
  {
   "cell_type": "code",
   "execution_count": 122,
   "metadata": {},
   "outputs": [],
   "source": [
    "# llamar a la API y obtener las C. Veterinarias cercanas a cada empresa\n",
    "list_Veterinarian = cr.call_url(game_filter5, 'Veterinarian', 3, 3)\n",
    "list_Veterinarian = cr.dic_ini (list_Veterinarian, 'Veterinarian')\n",
    "fin_Veterinarian = cr.dic_final(list_Veterinarian)"
   ]
  },
  {
   "cell_type": "code",
   "execution_count": 123,
   "metadata": {},
   "outputs": [],
   "source": [
    "cr.create_collection ('Veterinarian', fin_Veterinarian)\n",
    "vn= db.get_collection(\"Veterinarian\")  "
   ]
  },
  {
   "cell_type": "code",
   "execution_count": 124,
   "metadata": {},
   "outputs": [],
   "source": [
    "# Comparo cuales veterianrios estan en un radio de 2km y cuento cuantas hay para cada empresa de juego\n",
    "game_and_Veterinarian= cr.create_index(vn,game_filter5, 2)\n",
    "game_and_Veterinarian = cr.count_items(game_and_Veterinarian)"
   ]
  },
  {
   "cell_type": "code",
   "execution_count": 125,
   "metadata": {},
   "outputs": [
    {
     "data": {
      "text/html": [
       "<div>\n",
       "<style scoped>\n",
       "    .dataframe tbody tr th:only-of-type {\n",
       "        vertical-align: middle;\n",
       "    }\n",
       "\n",
       "    .dataframe tbody tr th {\n",
       "        vertical-align: top;\n",
       "    }\n",
       "\n",
       "    .dataframe thead th {\n",
       "        text-align: right;\n",
       "    }\n",
       "</style>\n",
       "<table border=\"1\" class=\"dataframe\">\n",
       "  <thead>\n",
       "    <tr style=\"text-align: right;\">\n",
       "      <th></th>\n",
       "      <th>name</th>\n",
       "      <th>comp_near</th>\n",
       "      <th>Total</th>\n",
       "    </tr>\n",
       "  </thead>\n",
       "  <tbody>\n",
       "    <tr>\n",
       "      <th>0</th>\n",
       "      <td>ConcertAttack</td>\n",
       "      <td>[Pure Paws Veterinary Care of Hell's Kitchen, ...</td>\n",
       "      <td>2</td>\n",
       "    </tr>\n",
       "    <tr>\n",
       "      <th>1</th>\n",
       "      <td>For Your Imagination</td>\n",
       "      <td>[West Village Veterinary Hospital, Pure Paws V...</td>\n",
       "      <td>2</td>\n",
       "    </tr>\n",
       "    <tr>\n",
       "      <th>2</th>\n",
       "      <td>CollegeClickTV</td>\n",
       "      <td>[Pure Paws Veterinary Care of Hell's Kitchen, ...</td>\n",
       "      <td>2</td>\n",
       "    </tr>\n",
       "  </tbody>\n",
       "</table>\n",
       "</div>"
      ],
      "text/plain": [
       "                   name                                          comp_near  \\\n",
       "0         ConcertAttack  [Pure Paws Veterinary Care of Hell's Kitchen, ...   \n",
       "1  For Your Imagination  [West Village Veterinary Hospital, Pure Paws V...   \n",
       "2        CollegeClickTV  [Pure Paws Veterinary Care of Hell's Kitchen, ...   \n",
       "\n",
       "   Total  \n",
       "0      2  \n",
       "1      2  \n",
       "2      2  "
      ]
     },
     "execution_count": 125,
     "metadata": {},
     "output_type": "execute_result"
    }
   ],
   "source": [
    "# generar un data frame y ordenarlo de manera descendiente por el numero de Airport cercanas\n",
    "df_game_Veterinarian=pd.DataFrame(game_and_Veterinarian)\n",
    "game_Veterinarian = df_game_Veterinarian.sort_values('Total', ascending=False)\n",
    "game_Veterinarian"
   ]
  },
  {
   "cell_type": "code",
   "execution_count": 126,
   "metadata": {},
   "outputs": [],
   "source": [
    "map_4 = mp.Create_map (40.7495594, -73.9916617)"
   ]
  },
  {
   "cell_type": "code",
   "execution_count": 127,
   "metadata": {},
   "outputs": [
    {
     "data": {
      "text/html": [
       "<div style=\"width:100%;\"><div style=\"position:relative;width:100%;height:0;padding-bottom:60%;\"><span style=\"color:#565656\">Make this Notebook Trusted to load map: File -> Trust Notebook</span><iframe src=\"about:blank\" style=\"position:absolute;width:100%;height:100%;left:0;top:0;border:none !important;\" data-html=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 onload=\"this.contentDocument.open();this.contentDocument.write(atob(this.getAttribute('data-html')));this.contentDocument.close();\" allowfullscreen webkitallowfullscreen mozallowfullscreen></iframe></div></div>"
      ],
      "text/plain": [
       "<folium.folium.Map at 0x25a2fce5670>"
      ]
     },
     "execution_count": 127,
     "metadata": {},
     "output_type": "execute_result"
    }
   ],
   "source": [
    "# mapa con la empresa de juego ya filtrada cercana a las industrias (azul = empresas de juego) (beige = empresa de software)\n",
    "mp.add_market (map_4, dict_software, 'fa-building', \"beige\")\n",
    "parque = Marker(location=[40.7495594, -73.9916617], tooltip = \"Empresa CollegeClickTV\", icon = Icon( color = 'blue',\n",
    "                    prefix = \"fa\",\n",
    "                    icon = 'fa-building',\n",
    "                    icon_color = \"black\"))\n",
    "parque.add_to(map_4)\n",
    "\n",
    "map_4"
   ]
  },
  {
   "cell_type": "code",
   "execution_count": 128,
   "metadata": {},
   "outputs": [
    {
     "data": {
      "text/html": [
       "<div style=\"width:100%;\"><div style=\"position:relative;width:100%;height:0;padding-bottom:60%;\"><span style=\"color:#565656\">Make this Notebook Trusted to load map: File -> Trust Notebook</span><iframe src=\"about:blank\" style=\"position:absolute;width:100%;height:100%;left:0;top:0;border:none !important;\" data-html=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 onload=\"this.contentDocument.open();this.contentDocument.write(atob(this.getAttribute('data-html')));this.contentDocument.close();\" allowfullscreen webkitallowfullscreen mozallowfullscreen></iframe></div></div>"
      ],
      "text/plain": [
       "<folium.folium.Map at 0x25a2fce5670>"
      ]
     },
     "execution_count": 128,
     "metadata": {},
     "output_type": "execute_result"
    }
   ],
   "source": [
    "mp.mapeo (game_air, 'red', at, map_4, 'fa-plane')\n",
    "mp.mapeo (game_vegan, 'pink', vg, map_4, 'fa-cutlery')\n",
    "mp.mapeo (game_basket, 'white', bs, map_4, 'fa-futbol-o')\n",
    "mp.mapeo (game_Cafeteria, 'orange', ca, map_4, 'fa-coffee')\n",
    "mp.mapeo (game_Veterinarian, 'purple', vn, map_4, 'fa-paw')"
   ]
  },
  {
   "cell_type": "code",
   "execution_count": 129,
   "metadata": {},
   "outputs": [],
   "source": [
    "dt = mp.create_data_School(game_scho, 'CollegeClickTV',hs)"
   ]
  },
  {
   "cell_type": "code",
   "execution_count": 130,
   "metadata": {},
   "outputs": [
    {
     "data": {
      "text/html": [
       "<div style=\"width:100%;\"><div style=\"position:relative;width:100%;height:0;padding-bottom:60%;\"><span style=\"color:#565656\">Make this Notebook Trusted to load map: File -> Trust Notebook</span><iframe src=\"about:blank\" style=\"position:absolute;width:100%;height:100%;left:0;top:0;border:none !important;\" data-html=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 onload=\"this.contentDocument.open();this.contentDocument.write(atob(this.getAttribute('data-html')));this.contentDocument.close();\" allowfullscreen webkitallowfullscreen mozallowfullscreen></iframe></div></div>"
      ],
      "text/plain": [
       "<folium.folium.Map at 0x25a2fce5670>"
      ]
     },
     "execution_count": 130,
     "metadata": {},
     "output_type": "execute_result"
    }
   ],
   "source": [
    "map_4 = mp.Mapa_calor_School (dt,[\"Preschool\", \"Middle School\", \"High_School\"], map_4 )\n",
    "map_4"
   ]
  },
  {
   "cell_type": "code",
   "execution_count": 131,
   "metadata": {},
   "outputs": [],
   "source": [
    "map_4.save('output/Mapa_empresas2.html')"
   ]
  }
 ],
 "metadata": {
  "kernelspec": {
   "display_name": "Python 3",
   "language": "python",
   "name": "python3"
  },
  "language_info": {
   "codemirror_mode": {
    "name": "ipython",
    "version": 3
   },
   "file_extension": ".py",
   "mimetype": "text/x-python",
   "name": "python",
   "nbconvert_exporter": "python",
   "pygments_lexer": "ipython3",
   "version": "3.8.3"
  }
 },
 "nbformat": 4,
 "nbformat_minor": 4
}
